{
  "nbformat": 4,
  "nbformat_minor": 0,
  "metadata": {
    "colab": {
      "provenance": []
    },
    "kernelspec": {
      "name": "python3",
      "display_name": "Python 3"
    },
    "language_info": {
      "name": "python"
    }
  },
  "cells": [
    {
      "cell_type": "markdown",
      "source": [
        "##Задания для самостоятельного выполнения\n",
        "\n"
      ],
      "metadata": {
        "id": "5Szz3HJ5FZZN"
      }
    },
    {
      "cell_type": "markdown",
      "source": [
        "#### 1. Загрузите датасет 20 newsgroups;"
      ],
      "metadata": {
        "id": "b67_5ZOXJGBF"
      }
    },
    {
      "cell_type": "code",
      "source": [
        "extracted_dir = '/content/20news'\n",
        "\n",
        "import pandas as pd\n",
        "\n",
        "list_csv_path = os.path.join(extracted_dir, 'list.csv')\n",
        "list_df = pd.read_csv(list_csv_path)\n",
        "\n"
      ],
      "metadata": {
        "id": "6ZQxMCSgTvOF"
      },
      "execution_count": 12,
      "outputs": []
    },
    {
      "cell_type": "markdown",
      "source": [
        "#### 2. Познакомьтесь с описанием и структурой датасета. Описание можно найти в документации."
      ],
      "metadata": {
        "id": "zO2-iJODJj4z"
      }
    },
    {
      "cell_type": "markdown",
      "source": [
        "####3. Выведите информацию о количественных параметрах датасета;"
      ],
      "metadata": {
        "id": "2WihM3noLJf0"
      }
    },
    {
      "cell_type": "code",
      "source": [
        "import pandas as pd\n",
        "\n",
        "# Загрузка содержимого list.csv\n",
        "list_csv_path = os.path.join(extracted_dir, 'list.csv')\n",
        "list_df = pd.read_csv(list_csv_path)\n",
        "\n",
        "# Создание списков для текстов и меток\n",
        "texts = []\n",
        "labels = []\n",
        "\n",
        "# Загрузка текстов и меток из файлов\n",
        "for category in list_df['newsgroup'].unique():\n",
        "    category_file_path = os.path.join(extracted_dir, f\"{category}.txt\")\n",
        "    with open(category_file_path, 'r', encoding='latin1') as file:\n",
        "        lines = file.readlines()\n",
        "        texts.extend(lines)\n",
        "        labels.extend([category] * len(lines))\n",
        "\n",
        "# Количественные параметры\n",
        "print(f\"Количество текстов: {len(texts)}\")\n",
        "print(f\"Количество категорий: {len(list_df['newsgroup'].unique())}\")\n"
      ],
      "metadata": {
        "colab": {
          "base_uri": "https://localhost:8080/"
        },
        "id": "cQ_X2ABRX5fk",
        "outputId": "3aa713d5-bf69-4c8e-9167-2a6353a456a9"
      },
      "execution_count": 10,
      "outputs": [
        {
          "output_type": "stream",
          "name": "stdout",
          "text": [
            "Количество текстов: 64002\n",
            "Количество категорий: 1\n"
          ]
        }
      ]
    },
    {
      "cell_type": "markdown",
      "source": [
        "####4. Выведите несколько точек датасета (сами текстовые фрагменты и значение целевой переменной);"
      ],
      "metadata": {
        "id": "1DckOFSfs42P"
      }
    },
    {
      "cell_type": "code",
      "source": [
        "# Вывод первых 5 текстов и их меток\n",
        "for i in range(5):\n",
        "    print(f\"Текст {i+1}:\\n{texts[i]}\\n\")\n",
        "    print(f\"Категория: {labels[i]}\\n\")\n"
      ],
      "metadata": {
        "colab": {
          "base_uri": "https://localhost:8080/"
        },
        "id": "r2vGvYBmX9dY",
        "outputId": "eea9af47-301b-4a34-d916-bf57ac2ee7ca"
      },
      "execution_count": 13,
      "outputs": [
        {
          "output_type": "stream",
          "name": "stdout",
          "text": [
            "Текст 1:\n",
            "Newsgroup: talk.religion.misc\n",
            "\n",
            "\n",
            "Категория: talk.religion.misc\n",
            "\n",
            "Текст 2:\n",
            "document_id: 82757\n",
            "\n",
            "\n",
            "Категория: talk.religion.misc\n",
            "\n",
            "Текст 3:\n",
            "From: dsoconne@quads.uchicago.edu (Daniel S OConnell)\n",
            "\n",
            "\n",
            "Категория: talk.religion.misc\n",
            "\n",
            "Текст 4:\n",
            "Subject: Re: Religion and homosexuality\n",
            "\n",
            "\n",
            "Категория: talk.religion.misc\n",
            "\n",
            "Текст 5:\n",
            "\n",
            "\n",
            "\n",
            "Категория: talk.religion.misc\n",
            "\n"
          ]
        }
      ]
    },
    {
      "cell_type": "markdown",
      "source": [
        "####5. Разделите эти данные на тестовую и обучающую выборки;"
      ],
      "metadata": {
        "id": "Io1JusDzPAn9"
      }
    },
    {
      "cell_type": "code",
      "source": [
        "from sklearn.model_selection import train_test_split\n",
        "\n",
        "X_train, X_test, y_train, y_test = train_test_split(texts, labels, test_size=0.2, random_state=42)\n"
      ],
      "metadata": {
        "id": "7sQkILSSYa4r"
      },
      "execution_count": 14,
      "outputs": []
    },
    {
      "cell_type": "markdown",
      "source": [
        "####6. Постройте модель наивного байесовского для классификации текстов;\n"
      ],
      "metadata": {
        "id": "I98uWMNCYglC"
      }
    },
    {
      "cell_type": "code",
      "source": [
        "from sklearn.feature_extraction.text import CountVectorizer\n",
        "from sklearn.naive_bayes import MultinomialNB\n",
        "\n",
        "# Векторизация текстов\n",
        "vectorizer = CountVectorizer()\n",
        "X_train_vec = vectorizer.fit_transform(X_train)\n",
        "X_test_vec = vectorizer.transform(X_test)\n",
        "\n",
        "# Построение модели наивного байесовского классификатора\n",
        "nb_model = MultinomialNB()\n",
        "nb_model.fit(X_train_vec, y_train)\n"
      ],
      "metadata": {
        "colab": {
          "base_uri": "https://localhost:8080/",
          "height": 75
        },
        "id": "MnSn997QYupq",
        "outputId": "1489de60-7180-4b16-b6d8-99a42989f43c"
      },
      "execution_count": 15,
      "outputs": [
        {
          "output_type": "execute_result",
          "data": {
            "text/plain": [
              "MultinomialNB()"
            ],
            "text/html": [
              "<style>#sk-container-id-1 {color: black;background-color: white;}#sk-container-id-1 pre{padding: 0;}#sk-container-id-1 div.sk-toggleable {background-color: white;}#sk-container-id-1 label.sk-toggleable__label {cursor: pointer;display: block;width: 100%;margin-bottom: 0;padding: 0.3em;box-sizing: border-box;text-align: center;}#sk-container-id-1 label.sk-toggleable__label-arrow:before {content: \"▸\";float: left;margin-right: 0.25em;color: #696969;}#sk-container-id-1 label.sk-toggleable__label-arrow:hover:before {color: black;}#sk-container-id-1 div.sk-estimator:hover label.sk-toggleable__label-arrow:before {color: black;}#sk-container-id-1 div.sk-toggleable__content {max-height: 0;max-width: 0;overflow: hidden;text-align: left;background-color: #f0f8ff;}#sk-container-id-1 div.sk-toggleable__content pre {margin: 0.2em;color: black;border-radius: 0.25em;background-color: #f0f8ff;}#sk-container-id-1 input.sk-toggleable__control:checked~div.sk-toggleable__content {max-height: 200px;max-width: 100%;overflow: auto;}#sk-container-id-1 input.sk-toggleable__control:checked~label.sk-toggleable__label-arrow:before {content: \"▾\";}#sk-container-id-1 div.sk-estimator input.sk-toggleable__control:checked~label.sk-toggleable__label {background-color: #d4ebff;}#sk-container-id-1 div.sk-label input.sk-toggleable__control:checked~label.sk-toggleable__label {background-color: #d4ebff;}#sk-container-id-1 input.sk-hidden--visually {border: 0;clip: rect(1px 1px 1px 1px);clip: rect(1px, 1px, 1px, 1px);height: 1px;margin: -1px;overflow: hidden;padding: 0;position: absolute;width: 1px;}#sk-container-id-1 div.sk-estimator {font-family: monospace;background-color: #f0f8ff;border: 1px dotted black;border-radius: 0.25em;box-sizing: border-box;margin-bottom: 0.5em;}#sk-container-id-1 div.sk-estimator:hover {background-color: #d4ebff;}#sk-container-id-1 div.sk-parallel-item::after {content: \"\";width: 100%;border-bottom: 1px solid gray;flex-grow: 1;}#sk-container-id-1 div.sk-label:hover label.sk-toggleable__label {background-color: #d4ebff;}#sk-container-id-1 div.sk-serial::before {content: \"\";position: absolute;border-left: 1px solid gray;box-sizing: border-box;top: 0;bottom: 0;left: 50%;z-index: 0;}#sk-container-id-1 div.sk-serial {display: flex;flex-direction: column;align-items: center;background-color: white;padding-right: 0.2em;padding-left: 0.2em;position: relative;}#sk-container-id-1 div.sk-item {position: relative;z-index: 1;}#sk-container-id-1 div.sk-parallel {display: flex;align-items: stretch;justify-content: center;background-color: white;position: relative;}#sk-container-id-1 div.sk-item::before, #sk-container-id-1 div.sk-parallel-item::before {content: \"\";position: absolute;border-left: 1px solid gray;box-sizing: border-box;top: 0;bottom: 0;left: 50%;z-index: -1;}#sk-container-id-1 div.sk-parallel-item {display: flex;flex-direction: column;z-index: 1;position: relative;background-color: white;}#sk-container-id-1 div.sk-parallel-item:first-child::after {align-self: flex-end;width: 50%;}#sk-container-id-1 div.sk-parallel-item:last-child::after {align-self: flex-start;width: 50%;}#sk-container-id-1 div.sk-parallel-item:only-child::after {width: 0;}#sk-container-id-1 div.sk-dashed-wrapped {border: 1px dashed gray;margin: 0 0.4em 0.5em 0.4em;box-sizing: border-box;padding-bottom: 0.4em;background-color: white;}#sk-container-id-1 div.sk-label label {font-family: monospace;font-weight: bold;display: inline-block;line-height: 1.2em;}#sk-container-id-1 div.sk-label-container {text-align: center;}#sk-container-id-1 div.sk-container {/* jupyter's `normalize.less` sets `[hidden] { display: none; }` but bootstrap.min.css set `[hidden] { display: none !important; }` so we also need the `!important` here to be able to override the default hidden behavior on the sphinx rendered scikit-learn.org. See: https://github.com/scikit-learn/scikit-learn/issues/21755 */display: inline-block !important;position: relative;}#sk-container-id-1 div.sk-text-repr-fallback {display: none;}</style><div id=\"sk-container-id-1\" class=\"sk-top-container\"><div class=\"sk-text-repr-fallback\"><pre>MultinomialNB()</pre><b>In a Jupyter environment, please rerun this cell to show the HTML representation or trust the notebook. <br />On GitHub, the HTML representation is unable to render, please try loading this page with nbviewer.org.</b></div><div class=\"sk-container\" hidden><div class=\"sk-item\"><div class=\"sk-estimator sk-toggleable\"><input class=\"sk-toggleable__control sk-hidden--visually\" id=\"sk-estimator-id-1\" type=\"checkbox\" checked><label for=\"sk-estimator-id-1\" class=\"sk-toggleable__label sk-toggleable__label-arrow\">MultinomialNB</label><div class=\"sk-toggleable__content\"><pre>MultinomialNB()</pre></div></div></div></div></div>"
            ]
          },
          "metadata": {},
          "execution_count": 15
        }
      ]
    },
    {
      "cell_type": "markdown",
      "source": [
        "####7. Оцените качество модели на тестовой выборке с помощью следующих метрик:\n"
      ],
      "metadata": {
        "id": "JQ7C-wQmPDvO"
      }
    },
    {
      "cell_type": "code",
      "source": [
        "from sklearn.metrics import accuracy_score, precision_score, recall_score\n",
        "\n",
        "# Предсказания на тестовой выборке\n",
        "y_pred = nb_model.predict(X_test_vec)\n",
        "\n",
        "# Оценка метрик\n",
        "accuracy = accuracy_score(y_test, y_pred)\n",
        "precision = precision_score(y_test, y_pred, average='weighted')\n",
        "recall = recall_score(y_test, y_pred, average='weighted')\n",
        "\n",
        "print(f\"Accuracy: {accuracy:.4f}\")\n",
        "print(f\"Precision: {precision:.4f}\")\n",
        "print(f\"Recall: {recall:.4f}\")\n"
      ],
      "metadata": {
        "colab": {
          "base_uri": "https://localhost:8080/"
        },
        "id": "o5aIMvj8Y2jK",
        "outputId": "334815c9-49bc-4736-dae4-313a81688924"
      },
      "execution_count": 16,
      "outputs": [
        {
          "output_type": "stream",
          "name": "stdout",
          "text": [
            "Accuracy: 1.0000\n",
            "Precision: 1.0000\n",
            "Recall: 1.0000\n"
          ]
        }
      ]
    },
    {
      "cell_type": "markdown",
      "source": [
        "####8. Постройте кривую обучения - график зависимости тестовой и обучающей эффективности от размера обучающей выборки.\n"
      ],
      "metadata": {
        "id": "sm1X8-FYYpCv"
      }
    },
    {
      "cell_type": "code",
      "source": [
        "import matplotlib.pyplot as plt\n",
        "from sklearn.model_selection import learning_curve\n",
        "import numpy as np\n",
        "\n",
        "# Функция для построения кривой обучения\n",
        "def plot_learning_curve(estimator, X, y, title='Learning Curve'):\n",
        "    train_sizes, train_scores, test_scores = learning_curve(estimator, X, y, cv=5, n_jobs=-1, train_sizes=np.linspace(0.1, 1.0, 10))\n",
        "    train_scores_mean = train_scores.mean(axis=1)\n",
        "    train_scores_std = train_scores.std(axis=1)\n",
        "    test_scores_mean = test_scores.mean(axis=1)\n",
        "    test_scores_std = test_scores.std(axis=1)\n",
        "\n",
        "    plt.figure()\n",
        "    plt.title(title)\n",
        "    plt.xlabel(\"Training examples\")\n",
        "    plt.ylabel(\"Score\")\n",
        "    plt.grid()\n",
        "\n",
        "    plt.fill_between(train_sizes, train_scores_mean - train_scores_std, train_scores_mean + train_scores_std, alpha=0.1, color=\"r\")\n",
        "    plt.fill_between(train_sizes, test_scores_mean - test_scores_std, test_scores_mean + test_scores_std, alpha=0.1, color=\"g\")\n",
        "    plt.plot(train_sizes, train_scores_mean, 'o-', color=\"r\", label=\"Training score\")\n",
        "    plt.plot(train_sizes, test_scores_mean, 'o-', color=\"g\", label=\"Cross-validation score\")\n",
        "\n",
        "    plt.legend(loc=\"best\")\n",
        "    return plt\n",
        "\n",
        "# Построение кривой обучения\n",
        "plot_learning_curve(nb_model, X_train_vec, y_train, title='Learning Curve for Naive Bayes Classifier')\n",
        "plt.show()\n"
      ],
      "metadata": {
        "colab": {
          "base_uri": "https://localhost:8080/",
          "height": 472
        },
        "id": "KG9KzmetY9aV",
        "outputId": "6e550664-a81e-44e2-9909-27819be72b7e"
      },
      "execution_count": 18,
      "outputs": [
        {
          "output_type": "display_data",
          "data": {
            "text/plain": [
              "<Figure size 640x480 with 1 Axes>"
            ],
            "image/png": "[encoded data removed]"
          },
          "metadata": {}
        }
      ]
    },
    {
      "cell_type": "markdown",
      "source": [
        "Из графика кривой обучения видно, что и обучающие, и кросс-валидационные оценки находятся на уровне около 1. Это может указывать на переобучение модели или на слишком хорошее соответствие данных к модели."
      ],
      "metadata": {
        "id": "w7CIGbOvBxF6"
      }
    },
    {
      "cell_type": "markdown",
      "source": [
        "**Анализ и выводы**\n",
        "\n",
        "* Высокая точность обучения и кросс-валидации: Это может свидетельствовать о том, что модель наивного байеса очень хорошо справляется с текущими данными. Наивный байесовский классификатор может быть очень эффективным для текстовой классификации, особенно когда слова в тексте являются независимыми признаками.\n",
        "\n",
        "* Проблемы с данными: Если модель показывает идеальные результаты (оценка равна 1), это может указывать на возможные проблемы с данными, такие как повторяющиеся записи или утечка данных из тестовой выборки в обучающую. Стоит проверить данные на наличие таких проблем."
      ],
      "metadata": {
        "id": "PMBEPdJmB1Lj"
      }
    },
    {
      "cell_type": "code",
      "source": [
        "from sklearn.model_selection import cross_val_score\n",
        "\n",
        "# Проведение кросс-валидации\n",
        "cv_scores = cross_val_score(nb_model, vectorizer.transform(texts), labels, cv=5, scoring='accuracy')\n",
        "\n",
        "print(f\"Кросс-валидация оценки: {cv_scores}\")\n",
        "print(f\"Средняя оценка кросс-валидации: {cv_scores.mean():.4f}\")\n"
      ],
      "metadata": {
        "colab": {
          "base_uri": "https://localhost:8080/"
        },
        "id": "yio5lXNSB8is",
        "outputId": "e7b2fd97-dba1-4d62-8aae-e212ad659bae"
      },
      "execution_count": 19,
      "outputs": [
        {
          "output_type": "stream",
          "name": "stdout",
          "text": [
            "Кросс-валидация оценки: [1. 1. 1. 1. 1.]\n",
            "Средняя оценка кросс-валидации: 1.0000\n"
          ]
        }
      ]
    },
    {
      "cell_type": "code",
      "source": [
        "from sklearn.feature_extraction.text import TfidfVectorizer\n",
        "\n",
        "# Векторизация текстов с использованием TF-IDF\n",
        "tfidf_vectorizer = TfidfVectorizer()\n",
        "X_train_tfidf = tfidf_vectorizer.fit_transform(X_train)\n",
        "X_test_tfidf = tfidf_vectorizer.transform(X_test)\n",
        "\n",
        "# Построение модели наивного байесовского классификатора\n",
        "nb_model_tfidf = MultinomialNB()\n",
        "nb_model_tfidf.fit(X_train_tfidf, y_train)\n",
        "\n",
        "# Предсказания на тестовой выборке\n",
        "y_pred_tfidf = nb_model_tfidf.predict(X_test_tfidf)\n",
        "\n",
        "# Оценка метрик\n",
        "accuracy_tfidf = accuracy_score(y_test, y_pred_tfidf)\n",
        "precision_tfidf = precision_score(y_test, y_pred_tfidf, average='weighted')\n",
        "recall_tfidf = recall_score(y_test, y_pred_tfidf, average='weighted')\n",
        "\n",
        "print(f\"Accuracy (TF-IDF): {accuracy_tfidf:.4f}\")\n",
        "print(f\"Precision (TF-IDF): {precision_tfidf:.4f}\")\n",
        "print(f\"Recall (TF-IDF): {recall_tfidf:.4f}\")\n"
      ],
      "metadata": {
        "colab": {
          "base_uri": "https://localhost:8080/"
        },
        "id": "nc_YUtNYB_VX",
        "outputId": "228fff2c-5b7f-423d-c735-2805657d44ea"
      },
      "execution_count": 20,
      "outputs": [
        {
          "output_type": "stream",
          "name": "stdout",
          "text": [
            "Accuracy (TF-IDF): 1.0000\n",
            "Precision (TF-IDF): 1.0000\n",
            "Recall (TF-IDF): 1.0000\n"
          ]
        }
      ]
    },
    {
      "cell_type": "code",
      "source": [
        "# Создание DataFrame для удобства анализа\n",
        "data_df = pd.DataFrame({'text': texts, 'label': labels})\n",
        "\n",
        "# Проверка количества уникальных текстов\n",
        "unique_texts = data_df['text'].nunique()\n",
        "print(f\"Количество уникальных текстов: {unique_texts}\")\n",
        "print(f\"Общее количество текстов: {len(texts)}\")\n"
      ],
      "metadata": {
        "colab": {
          "base_uri": "https://localhost:8080/"
        },
        "id": "j3eiGGtOCXk6",
        "outputId": "dd5e8e07-a22e-427a-e344-e36a20d2b727"
      },
      "execution_count": 21,
      "outputs": [
        {
          "output_type": "stream",
          "name": "stdout",
          "text": [
            "Количество уникальных текстов: 21960\n",
            "Общее количество текстов: 64002\n"
          ]
        }
      ]
    },
    {
      "cell_type": "code",
      "source": [
        "# Проверка пересечения текстов в обучающей и тестовой выборках\n",
        "train_texts_set = set(X_train)\n",
        "test_texts_set = set(X_test)\n",
        "\n",
        "intersection = train_texts_set.intersection(test_texts_set)\n",
        "print(f\"Количество пересекающихся текстов между обучающей и тестовой выборками: {len(intersection)}\")\n"
      ],
      "metadata": {
        "colab": {
          "base_uri": "https://localhost:8080/"
        },
        "id": "-QPbNUYECYua",
        "outputId": "5da064f0-0930-4f31-df92-30160a1a103f"
      },
      "execution_count": 22,
      "outputs": [
        {
          "output_type": "stream",
          "name": "stdout",
          "text": [
            "Количество пересекающихся текстов между обучающей и тестовой выборками: 6998\n"
          ]
        }
      ]
    },
    {
      "cell_type": "code",
      "source": [
        "# Проверка распределения данных по категориям\n",
        "category_distribution = data_df['label'].value_counts()\n",
        "print(category_distribution)\n"
      ],
      "metadata": {
        "colab": {
          "base_uri": "https://localhost:8080/"
        },
        "id": "uqNI8f5ACadn",
        "outputId": "3a208c2c-f4c9-4849-87c7-e61608beab8e"
      },
      "execution_count": 23,
      "outputs": [
        {
          "output_type": "stream",
          "name": "stdout",
          "text": [
            "label\n",
            "talk.religion.misc    64002\n",
            "Name: count, dtype: int64\n"
          ]
        }
      ]
    },
    {
      "cell_type": "markdown",
      "source": [
        "Согласно результатам, количество уникальных текстов значительно меньше, чем общее количество текстов. Кроме того, между обучающей и тестовой выборками имеется значительное количество пересекающихся текстов. Это объясняет идеальные оценки модели, так как она \"видит\" те же самые тексты в обеих выборках."
      ],
      "metadata": {
        "id": "xRR_Y01KCrlg"
      }
    },
    {
      "cell_type": "code",
      "source": [
        "# Удаление дубликатов текстов\n",
        "data_df = data_df.drop_duplicates(subset='text')\n",
        "\n",
        "# Повторное разделение данных на обучающую и тестовую выборки\n",
        "X_train, X_test, y_train, y_test = train_test_split(data_df['text'], data_df['label'], test_size=0.2, random_state=42, stratify=data_df['label'])\n",
        "\n",
        "# Проверка пересечения текстов в обновленных обучающей и тестовой выборках\n",
        "train_texts_set = set(X_train)\n",
        "test_texts_set = set(X_test)\n",
        "\n",
        "intersection = train_texts_set.intersection(test_texts_set)\n",
        "print(f\"Количество пересекающихся текстов между обновленной обучающей и тестовой выборками: {len(intersection)}\")\n",
        "\n",
        "# Повторная векторизация текстов и обучение модели\n",
        "vectorizer = CountVectorizer()\n",
        "X_train_vec = vectorizer.fit_transform(X_train)\n",
        "X_test_vec = vectorizer.transform(X_test)\n",
        "\n",
        "# Обучение модели наивного байесовского классификатора\n",
        "nb_model = MultinomialNB()\n",
        "nb_model.fit(X_train_vec, y_train)\n",
        "\n",
        "# Оценка качества модели\n",
        "y_pred = nb_model.predict(X_test_vec)\n",
        "accuracy = accuracy_score(y_test, y_pred)\n",
        "precision = precision_score(y_test, y_pred, average='weighted')\n",
        "recall = recall_score(y_test, y_pred, average='weighted')\n",
        "\n",
        "print(f\"Accuracy: {accuracy:.4f}\")\n",
        "print(f\"Precision: {precision:.4f}\")\n",
        "print(f\"Recall: {recall:.4f}\")\n"
      ],
      "metadata": {
        "colab": {
          "base_uri": "https://localhost:8080/"
        },
        "id": "pMFmflSTCsHu",
        "outputId": "cd6476bc-32ee-402d-b088-6908caff95a2"
      },
      "execution_count": 24,
      "outputs": [
        {
          "output_type": "stream",
          "name": "stdout",
          "text": [
            "Количество пересекающихся текстов между обновленной обучающей и тестовой выборками: 0\n",
            "Accuracy: 1.0000\n",
            "Precision: 1.0000\n",
            "Recall: 1.0000\n"
          ]
        }
      ]
    },
    {
      "cell_type": "code",
      "source": [
        "category_distribution = data_df['label'].value_counts()\n",
        "print(category_distribution)\n"
      ],
      "metadata": {
        "colab": {
          "base_uri": "https://localhost:8080/"
        },
        "id": "7sBUvrQWDJYU",
        "outputId": "44a91775-b539-4109-b6a9-293d1ba51425"
      },
      "execution_count": 25,
      "outputs": [
        {
          "output_type": "stream",
          "name": "stdout",
          "text": [
            "label\n",
            "talk.religion.misc    21960\n",
            "Name: count, dtype: int64\n"
          ]
        }
      ]
    },
    {
      "cell_type": "code",
      "source": [
        "# Проверка распределения данных по категориям\n",
        "category_distribution = data_df['label'].value_counts()\n",
        "print(category_distribution)\n",
        "\n",
        "# Если данные содержат несколько категорий, повторите процесс обучения модели\n",
        "if len(category_distribution) > 1:\n",
        "    X_train, X_test, y_train, y_test = train_test_split(data_df['text'], data_df['label'], test_size=0.2, random_state=42, stratify=data_df['label'])\n",
        "\n",
        "    vectorizer = CountVectorizer()\n",
        "    X_train_vec = vectorizer.fit_transform(X_train)\n",
        "    X_test_vec = vectorizer.transform(X_test)\n",
        "\n",
        "    nb_model = MultinomialNB()\n",
        "    nb_model.fit(X_train_vec, y_train)\n",
        "\n",
        "    y_pred = nb_model.predict(X_test_vec)\n",
        "    accuracy = accuracy_score(y_test, y_pred)\n",
        "    precision = precision_score(y_test, y_pred, average='weighted')\n",
        "    recall = recall_score(y_test, y_pred, average='weighted')\n",
        "\n",
        "    print(f\"Accuracy: {accuracy:.4f}\")\n",
        "    print(f\"Precision: {precision:.4f}\")\n",
        "    print(f\"Recall: {recall:.4f}\")\n",
        "else:\n",
        "    print(\"Данные содержат только одну категорию. Для адекватного обучения модели необходимы данные с несколькими категориями.\")\n"
      ],
      "metadata": {
        "colab": {
          "base_uri": "https://localhost:8080/"
        },
        "id": "Cj1ernTwDM8i",
        "outputId": "2f07d11c-06cd-42a8-d3b6-b3c9dd109111"
      },
      "execution_count": 26,
      "outputs": [
        {
          "output_type": "stream",
          "name": "stdout",
          "text": [
            "label\n",
            "talk.religion.misc    21960\n",
            "Name: count, dtype: int64\n",
            "Данные содержат только одну категорию. Для адекватного обучения модели необходимы данные с несколькими категориями.\n"
          ]
        }
      ]
    }
  ]
}