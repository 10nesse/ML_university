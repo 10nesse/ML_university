{
  "nbformat": 4,
  "nbformat_minor": 0,
  "metadata": {
    "colab": {
      "provenance": [],
      "collapsed_sections": [
        "6kbFOsnYRlak"
      ]
    },
    "kernelspec": {
      "name": "python3",
      "display_name": "Python 3"
    },
    "language_info": {
      "name": "python"
    }
  },
  "cells": [
    {
      "cell_type": "markdown",
      "source": [
        "##Методические указания"
      ],
      "metadata": {
        "id": "6kbFOsnYRlak"
      }
    },
    {
      "cell_type": "code",
      "source": [
        "import pandas as pd"
      ],
      "metadata": {
        "id": "at5x4bseOSgS"
      },
      "execution_count": 2,
      "outputs": []
    },
    {
      "cell_type": "code",
      "source": [
        "data = pd.read_csv(\"https://raw.githubusercontent.com/koroteevmv/ML_course/2023/ML2.2%20real%20classification/data/diabetes.csv\")\n"
      ],
      "metadata": {
        "id": "Y-YvWr3KOOpT"
      },
      "execution_count": 3,
      "outputs": []
    },
    {
      "cell_type": "code",
      "source": [
        "data.head()\n"
      ],
      "metadata": {
        "colab": {
          "base_uri": "https://localhost:8080/",
          "height": 226
        },
        "id": "C2-P3tWJOOk5",
        "outputId": "2c33f85a-dc19-4845-a451-85e469dcc359"
      },
      "execution_count": 4,
      "outputs": [
        {
          "output_type": "execute_result",
          "data": {
            "text/plain": [
              "   Pregnancies  Glucose  BloodPressure  SkinThickness  Insulin   BMI  \\\n",
              "0            6      148             72             35        0  33.6   \n",
              "1            1       85             66             29        0  26.6   \n",
              "2            8      183             64              0        0  23.3   \n",
              "3            1       89             66             23       94  28.1   \n",
              "4            0      137             40             35      168  43.1   \n",
              "\n",
              "   DiabetesPedigreeFunction  Age  Outcome  \n",
              "0                     0.627   50        1  \n",
              "1                     0.351   31        0  \n",
              "2                     0.672   32        1  \n",
              "3                     0.167   21        0  \n",
              "4                     2.288   33        1  "
            ],
            "text/html": [
              "\n",
              "  <div id=\"df-3378a46b-c5db-4c72-9b3d-9aaba2b0fb6b\" class=\"colab-df-container\">\n",
              "    <div>\n",
              "<style scoped>\n",
              "    .dataframe tbody tr th:only-of-type {\n",
              "        vertical-align: middle;\n",
              "    }\n",
              "\n",
              "    .dataframe tbody tr th {\n",
              "        vertical-align: top;\n",
              "    }\n",
              "\n",
              "    .dataframe thead th {\n",
              "        text-align: right;\n",
              "    }\n",
              "</style>\n",
              "<table border=\"1\" class=\"dataframe\">\n",
              "  <thead>\n",
              "    <tr style=\"text-align: right;\">\n",
              "      <th></th>\n",
              "      <th>Pregnancies</th>\n",
              "      <th>Glucose</th>\n",
              "      <th>BloodPressure</th>\n",
              "      <th>SkinThickness</th>\n",
              "      <th>Insulin</th>\n",
              "      <th>BMI</th>\n",
              "      <th>DiabetesPedigreeFunction</th>\n",
              "      <th>Age</th>\n",
              "      <th>Outcome</th>\n",
              "    </tr>\n",
              "  </thead>\n",
              "  <tbody>\n",
              "    <tr>\n",
              "      <th>0</th>\n",
              "      <td>6</td>\n",
              "      <td>148</td>\n",
              "      <td>72</td>\n",
              "      <td>35</td>\n",
              "      <td>0</td>\n",
              "      <td>33.6</td>\n",
              "      <td>0.627</td>\n",
              "      <td>50</td>\n",
              "      <td>1</td>\n",
              "    </tr>\n",
              "    <tr>\n",
              "      <th>1</th>\n",
              "      <td>1</td>\n",
              "      <td>85</td>\n",
              "      <td>66</td>\n",
              "      <td>29</td>\n",
              "      <td>0</td>\n",
              "      <td>26.6</td>\n",
              "      <td>0.351</td>\n",
              "      <td>31</td>\n",
              "      <td>0</td>\n",
              "    </tr>\n",
              "    <tr>\n",
              "      <th>2</th>\n",
              "      <td>8</td>\n",
              "      <td>183</td>\n",
              "      <td>64</td>\n",
              "      <td>0</td>\n",
              "      <td>0</td>\n",
              "      <td>23.3</td>\n",
              "      <td>0.672</td>\n",
              "      <td>32</td>\n",
              "      <td>1</td>\n",
              "    </tr>\n",
              "    <tr>\n",
              "      <th>3</th>\n",
              "      <td>1</td>\n",
              "      <td>89</td>\n",
              "      <td>66</td>\n",
              "      <td>23</td>\n",
              "      <td>94</td>\n",
              "      <td>28.1</td>\n",
              "      <td>0.167</td>\n",
              "      <td>21</td>\n",
              "      <td>0</td>\n",
              "    </tr>\n",
              "    <tr>\n",
              "      <th>4</th>\n",
              "      <td>0</td>\n",
              "      <td>137</td>\n",
              "      <td>40</td>\n",
              "      <td>35</td>\n",
              "      <td>168</td>\n",
              "      <td>43.1</td>\n",
              "      <td>2.288</td>\n",
              "      <td>33</td>\n",
              "      <td>1</td>\n",
              "    </tr>\n",
              "  </tbody>\n",
              "</table>\n",
              "</div>\n",
              "    <div class=\"colab-df-buttons\">\n",
              "\n",
              "  <div class=\"colab-df-container\">\n",
              "    <button class=\"colab-df-convert\" onclick=\"convertToInteractive('df-3378a46b-c5db-4c72-9b3d-9aaba2b0fb6b')\"\n",
              "            title=\"Convert this dataframe to an interactive table.\"\n",
              "            style=\"display:none;\">\n",
              "\n",
              "  <svg xmlns=\"http://www.w3.org/2000/svg\" height=\"24px\" viewBox=\"0 -960 960 960\">\n",
              "    <path d=\"M120-120v-720h720v720H120Zm60-500h600v-160H180v160Zm220 220h160v-160H400v160Zm0 220h160v-160H400v160ZM180-400h160v-160H180v160Zm440 0h160v-160H620v160ZM180-180h160v-160H180v160Zm440 0h160v-160H620v160Z\"/>\n",
              "  </svg>\n",
              "    </button>\n",
              "\n",
              "  <style>\n",
              "    .colab-df-container {\n",
              "      display:flex;\n",
              "      gap: 12px;\n",
              "    }\n",
              "\n",
              "    .colab-df-convert {\n",
              "      background-color: #E8F0FE;\n",
              "      border: none;\n",
              "      border-radius: 50%;\n",
              "      cursor: pointer;\n",
              "      display: none;\n",
              "      fill: #1967D2;\n",
              "      height: 32px;\n",
              "      padding: 0 0 0 0;\n",
              "      width: 32px;\n",
              "    }\n",
              "\n",
              "    .colab-df-convert:hover {\n",
              "      background-color: #E2EBFA;\n",
              "      box-shadow: 0px 1px 2px rgba(60, 64, 67, 0.3), 0px 1px 3px 1px rgba(60, 64, 67, 0.15);\n",
              "      fill: #174EA6;\n",
              "    }\n",
              "\n",
              "    .colab-df-buttons div {\n",
              "      margin-bottom: 4px;\n",
              "    }\n",
              "\n",
              "    [theme=dark] .colab-df-convert {\n",
              "      background-color: #3B4455;\n",
              "      fill: #D2E3FC;\n",
              "    }\n",
              "\n",
              "    [theme=dark] .colab-df-convert:hover {\n",
              "      background-color: #434B5C;\n",
              "      box-shadow: 0px 1px 3px 1px rgba(0, 0, 0, 0.15);\n",
              "      filter: drop-shadow(0px 1px 2px rgba(0, 0, 0, 0.3));\n",
              "      fill: #FFFFFF;\n",
              "    }\n",
              "  </style>\n",
              "\n",
              "    <script>\n",
              "      const buttonEl =\n",
              "        document.querySelector('#df-3378a46b-c5db-4c72-9b3d-9aaba2b0fb6b button.colab-df-convert');\n",
              "      buttonEl.style.display =\n",
              "        google.colab.kernel.accessAllowed ? 'block' : 'none';\n",
              "\n",
              "      async function convertToInteractive(key) {\n",
              "        const element = document.querySelector('#df-3378a46b-c5db-4c72-9b3d-9aaba2b0fb6b');\n",
              "        const dataTable =\n",
              "          await google.colab.kernel.invokeFunction('convertToInteractive',\n",
              "                                                    [key], {});\n",
              "        if (!dataTable) return;\n",
              "\n",
              "        const docLinkHtml = 'Like what you see? Visit the ' +\n",
              "          '<a target=\"_blank\" href=https://colab.research.google.com/notebooks/data_table.ipynb>data table notebook</a>'\n",
              "          + ' to learn more about interactive tables.';\n",
              "        element.innerHTML = '';\n",
              "        dataTable['output_type'] = 'display_data';\n",
              "        await google.colab.output.renderOutput(dataTable, element);\n",
              "        const docLink = document.createElement('div');\n",
              "        docLink.innerHTML = docLinkHtml;\n",
              "        element.appendChild(docLink);\n",
              "      }\n",
              "    </script>\n",
              "  </div>\n",
              "\n",
              "\n",
              "<div id=\"df-d622f4e3-9075-48dd-8046-7d33df1ac845\">\n",
              "  <button class=\"colab-df-quickchart\" onclick=\"quickchart('df-d622f4e3-9075-48dd-8046-7d33df1ac845')\"\n",
              "            title=\"Suggest charts\"\n",
              "            style=\"display:none;\">\n",
              "\n",
              "<svg xmlns=\"http://www.w3.org/2000/svg\" height=\"24px\"viewBox=\"0 0 24 24\"\n",
              "     width=\"24px\">\n",
              "    <g>\n",
              "        <path d=\"M19 3H5c-1.1 0-2 .9-2 2v14c0 1.1.9 2 2 2h14c1.1 0 2-.9 2-2V5c0-1.1-.9-2-2-2zM9 17H7v-7h2v7zm4 0h-2V7h2v10zm4 0h-2v-4h2v4z\"/>\n",
              "    </g>\n",
              "</svg>\n",
              "  </button>\n",
              "\n",
              "<style>\n",
              "  .colab-df-quickchart {\n",
              "      --bg-color: #E8F0FE;\n",
              "      --fill-color: #1967D2;\n",
              "      --hover-bg-color: #E2EBFA;\n",
              "      --hover-fill-color: #174EA6;\n",
              "      --disabled-fill-color: #AAA;\n",
              "      --disabled-bg-color: #DDD;\n",
              "  }\n",
              "\n",
              "  [theme=dark] .colab-df-quickchart {\n",
              "      --bg-color: #3B4455;\n",
              "      --fill-color: #D2E3FC;\n",
              "      --hover-bg-color: #434B5C;\n",
              "      --hover-fill-color: #FFFFFF;\n",
              "      --disabled-bg-color: #3B4455;\n",
              "      --disabled-fill-color: #666;\n",
              "  }\n",
              "\n",
              "  .colab-df-quickchart {\n",
              "    background-color: var(--bg-color);\n",
              "    border: none;\n",
              "    border-radius: 50%;\n",
              "    cursor: pointer;\n",
              "    display: none;\n",
              "    fill: var(--fill-color);\n",
              "    height: 32px;\n",
              "    padding: 0;\n",
              "    width: 32px;\n",
              "  }\n",
              "\n",
              "  .colab-df-quickchart:hover {\n",
              "    background-color: var(--hover-bg-color);\n",
              "    box-shadow: 0 1px 2px rgba(60, 64, 67, 0.3), 0 1px 3px 1px rgba(60, 64, 67, 0.15);\n",
              "    fill: var(--button-hover-fill-color);\n",
              "  }\n",
              "\n",
              "  .colab-df-quickchart-complete:disabled,\n",
              "  .colab-df-quickchart-complete:disabled:hover {\n",
              "    background-color: var(--disabled-bg-color);\n",
              "    fill: var(--disabled-fill-color);\n",
              "    box-shadow: none;\n",
              "  }\n",
              "\n",
              "  .colab-df-spinner {\n",
              "    border: 2px solid var(--fill-color);\n",
              "    border-color: transparent;\n",
              "    border-bottom-color: var(--fill-color);\n",
              "    animation:\n",
              "      spin 1s steps(1) infinite;\n",
              "  }\n",
              "\n",
              "  @keyframes spin {\n",
              "    0% {\n",
              "      border-color: transparent;\n",
              "      border-bottom-color: var(--fill-color);\n",
              "      border-left-color: var(--fill-color);\n",
              "    }\n",
              "    20% {\n",
              "      border-color: transparent;\n",
              "      border-left-color: var(--fill-color);\n",
              "      border-top-color: var(--fill-color);\n",
              "    }\n",
              "    30% {\n",
              "      border-color: transparent;\n",
              "      border-left-color: var(--fill-color);\n",
              "      border-top-color: var(--fill-color);\n",
              "      border-right-color: var(--fill-color);\n",
              "    }\n",
              "    40% {\n",
              "      border-color: transparent;\n",
              "      border-right-color: var(--fill-color);\n",
              "      border-top-color: var(--fill-color);\n",
              "    }\n",
              "    60% {\n",
              "      border-color: transparent;\n",
              "      border-right-color: var(--fill-color);\n",
              "    }\n",
              "    80% {\n",
              "      border-color: transparent;\n",
              "      border-right-color: var(--fill-color);\n",
              "      border-bottom-color: var(--fill-color);\n",
              "    }\n",
              "    90% {\n",
              "      border-color: transparent;\n",
              "      border-bottom-color: var(--fill-color);\n",
              "    }\n",
              "  }\n",
              "</style>\n",
              "\n",
              "  <script>\n",
              "    async function quickchart(key) {\n",
              "      const quickchartButtonEl =\n",
              "        document.querySelector('#' + key + ' button');\n",
              "      quickchartButtonEl.disabled = true;  // To prevent multiple clicks.\n",
              "      quickchartButtonEl.classList.add('colab-df-spinner');\n",
              "      try {\n",
              "        const charts = await google.colab.kernel.invokeFunction(\n",
              "            'suggestCharts', [key], {});\n",
              "      } catch (error) {\n",
              "        console.error('Error during call to suggestCharts:', error);\n",
              "      }\n",
              "      quickchartButtonEl.classList.remove('colab-df-spinner');\n",
              "      quickchartButtonEl.classList.add('colab-df-quickchart-complete');\n",
              "    }\n",
              "    (() => {\n",
              "      let quickchartButtonEl =\n",
              "        document.querySelector('#df-d622f4e3-9075-48dd-8046-7d33df1ac845 button');\n",
              "      quickchartButtonEl.style.display =\n",
              "        google.colab.kernel.accessAllowed ? 'block' : 'none';\n",
              "    })();\n",
              "  </script>\n",
              "</div>\n",
              "    </div>\n",
              "  </div>\n"
            ]
          },
          "metadata": {},
          "execution_count": 4
        }
      ]
    },
    {
      "cell_type": "code",
      "source": [
        "data.info()\n"
      ],
      "metadata": {
        "colab": {
          "base_uri": "https://localhost:8080/"
        },
        "id": "AJ7CVFslOVv8",
        "outputId": "f5e2ee55-e759-4698-c824-beaa0bdc7dfd"
      },
      "execution_count": 5,
      "outputs": [
        {
          "output_type": "stream",
          "name": "stdout",
          "text": [
            "<class 'pandas.core.frame.DataFrame'>\n",
            "RangeIndex: 768 entries, 0 to 767\n",
            "Data columns (total 9 columns):\n",
            " #   Column                    Non-Null Count  Dtype  \n",
            "---  ------                    --------------  -----  \n",
            " 0   Pregnancies               768 non-null    int64  \n",
            " 1   Glucose                   768 non-null    int64  \n",
            " 2   BloodPressure             768 non-null    int64  \n",
            " 3   SkinThickness             768 non-null    int64  \n",
            " 4   Insulin                   768 non-null    int64  \n",
            " 5   BMI                       768 non-null    float64\n",
            " 6   DiabetesPedigreeFunction  768 non-null    float64\n",
            " 7   Age                       768 non-null    int64  \n",
            " 8   Outcome                   768 non-null    int64  \n",
            "dtypes: float64(2), int64(7)\n",
            "memory usage: 54.1 KB\n"
          ]
        }
      ]
    },
    {
      "cell_type": "code",
      "source": [
        "data.describe()\n"
      ],
      "metadata": {
        "colab": {
          "base_uri": "https://localhost:8080/",
          "height": 320
        },
        "id": "ZhgRMReLOXUS",
        "outputId": "de2f21d8-5020-4972-b25f-604cfb84f695"
      },
      "execution_count": 6,
      "outputs": [
        {
          "output_type": "execute_result",
          "data": {
            "text/plain": [
              "       Pregnancies     Glucose  BloodPressure  SkinThickness     Insulin  \\\n",
              "count   768.000000  768.000000     768.000000     768.000000  768.000000   \n",
              "mean      3.845052  120.894531      69.105469      20.536458   79.799479   \n",
              "std       3.369578   31.972618      19.355807      15.952218  115.244002   \n",
              "min       0.000000    0.000000       0.000000       0.000000    0.000000   \n",
              "25%       1.000000   99.000000      62.000000       0.000000    0.000000   \n",
              "50%       3.000000  117.000000      72.000000      23.000000   30.500000   \n",
              "75%       6.000000  140.250000      80.000000      32.000000  127.250000   \n",
              "max      17.000000  199.000000     122.000000      99.000000  846.000000   \n",
              "\n",
              "              BMI  DiabetesPedigreeFunction         Age     Outcome  \n",
              "count  768.000000                768.000000  768.000000  768.000000  \n",
              "mean    31.992578                  0.471876   33.240885    0.348958  \n",
              "std      7.884160                  0.331329   11.760232    0.476951  \n",
              "min      0.000000                  0.078000   21.000000    0.000000  \n",
              "25%     27.300000                  0.243750   24.000000    0.000000  \n",
              "50%     32.000000                  0.372500   29.000000    0.000000  \n",
              "75%     36.600000                  0.626250   41.000000    1.000000  \n",
              "max     67.100000                  2.420000   81.000000    1.000000  "
            ],
            "text/html": [
              "\n",
              "  <div id=\"df-37de27f9-8bb9-4239-b07d-5d08cc634eff\" class=\"colab-df-container\">\n",
              "    <div>\n",
              "<style scoped>\n",
              "    .dataframe tbody tr th:only-of-type {\n",
              "        vertical-align: middle;\n",
              "    }\n",
              "\n",
              "    .dataframe tbody tr th {\n",
              "        vertical-align: top;\n",
              "    }\n",
              "\n",
              "    .dataframe thead th {\n",
              "        text-align: right;\n",
              "    }\n",
              "</style>\n",
              "<table border=\"1\" class=\"dataframe\">\n",
              "  <thead>\n",
              "    <tr style=\"text-align: right;\">\n",
              "      <th></th>\n",
              "      <th>Pregnancies</th>\n",
              "      <th>Glucose</th>\n",
              "      <th>BloodPressure</th>\n",
              "      <th>SkinThickness</th>\n",
              "      <th>Insulin</th>\n",
              "      <th>BMI</th>\n",
              "      <th>DiabetesPedigreeFunction</th>\n",
              "      <th>Age</th>\n",
              "      <th>Outcome</th>\n",
              "    </tr>\n",
              "  </thead>\n",
              "  <tbody>\n",
              "    <tr>\n",
              "      <th>count</th>\n",
              "      <td>768.000000</td>\n",
              "      <td>768.000000</td>\n",
              "      <td>768.000000</td>\n",
              "      <td>768.000000</td>\n",
              "      <td>768.000000</td>\n",
              "      <td>768.000000</td>\n",
              "      <td>768.000000</td>\n",
              "      <td>768.000000</td>\n",
              "      <td>768.000000</td>\n",
              "    </tr>\n",
              "    <tr>\n",
              "      <th>mean</th>\n",
              "      <td>3.845052</td>\n",
              "      <td>120.894531</td>\n",
              "      <td>69.105469</td>\n",
              "      <td>20.536458</td>\n",
              "      <td>79.799479</td>\n",
              "      <td>31.992578</td>\n",
              "      <td>0.471876</td>\n",
              "      <td>33.240885</td>\n",
              "      <td>0.348958</td>\n",
              "    </tr>\n",
              "    <tr>\n",
              "      <th>std</th>\n",
              "      <td>3.369578</td>\n",
              "      <td>31.972618</td>\n",
              "      <td>19.355807</td>\n",
              "      <td>15.952218</td>\n",
              "      <td>115.244002</td>\n",
              "      <td>7.884160</td>\n",
              "      <td>0.331329</td>\n",
              "      <td>11.760232</td>\n",
              "      <td>0.476951</td>\n",
              "    </tr>\n",
              "    <tr>\n",
              "      <th>min</th>\n",
              "      <td>0.000000</td>\n",
              "      <td>0.000000</td>\n",
              "      <td>0.000000</td>\n",
              "      <td>0.000000</td>\n",
              "      <td>0.000000</td>\n",
              "      <td>0.000000</td>\n",
              "      <td>0.078000</td>\n",
              "      <td>21.000000</td>\n",
              "      <td>0.000000</td>\n",
              "    </tr>\n",
              "    <tr>\n",
              "      <th>25%</th>\n",
              "      <td>1.000000</td>\n",
              "      <td>99.000000</td>\n",
              "      <td>62.000000</td>\n",
              "      <td>0.000000</td>\n",
              "      <td>0.000000</td>\n",
              "      <td>27.300000</td>\n",
              "      <td>0.243750</td>\n",
              "      <td>24.000000</td>\n",
              "      <td>0.000000</td>\n",
              "    </tr>\n",
              "    <tr>\n",
              "      <th>50%</th>\n",
              "      <td>3.000000</td>\n",
              "      <td>117.000000</td>\n",
              "      <td>72.000000</td>\n",
              "      <td>23.000000</td>\n",
              "      <td>30.500000</td>\n",
              "      <td>32.000000</td>\n",
              "      <td>0.372500</td>\n",
              "      <td>29.000000</td>\n",
              "      <td>0.000000</td>\n",
              "    </tr>\n",
              "    <tr>\n",
              "      <th>75%</th>\n",
              "      <td>6.000000</td>\n",
              "      <td>140.250000</td>\n",
              "      <td>80.000000</td>\n",
              "      <td>32.000000</td>\n",
              "      <td>127.250000</td>\n",
              "      <td>36.600000</td>\n",
              "      <td>0.626250</td>\n",
              "      <td>41.000000</td>\n",
              "      <td>1.000000</td>\n",
              "    </tr>\n",
              "    <tr>\n",
              "      <th>max</th>\n",
              "      <td>17.000000</td>\n",
              "      <td>199.000000</td>\n",
              "      <td>122.000000</td>\n",
              "      <td>99.000000</td>\n",
              "      <td>846.000000</td>\n",
              "      <td>67.100000</td>\n",
              "      <td>2.420000</td>\n",
              "      <td>81.000000</td>\n",
              "      <td>1.000000</td>\n",
              "    </tr>\n",
              "  </tbody>\n",
              "</table>\n",
              "</div>\n",
              "    <div class=\"colab-df-buttons\">\n",
              "\n",
              "  <div class=\"colab-df-container\">\n",
              "    <button class=\"colab-df-convert\" onclick=\"convertToInteractive('df-37de27f9-8bb9-4239-b07d-5d08cc634eff')\"\n",
              "            title=\"Convert this dataframe to an interactive table.\"\n",
              "            style=\"display:none;\">\n",
              "\n",
              "  <svg xmlns=\"http://www.w3.org/2000/svg\" height=\"24px\" viewBox=\"0 -960 960 960\">\n",
              "    <path d=\"M120-120v-720h720v720H120Zm60-500h600v-160H180v160Zm220 220h160v-160H400v160Zm0 220h160v-160H400v160ZM180-400h160v-160H180v160Zm440 0h160v-160H620v160ZM180-180h160v-160H180v160Zm440 0h160v-160H620v160Z\"/>\n",
              "  </svg>\n",
              "    </button>\n",
              "\n",
              "  <style>\n",
              "    .colab-df-container {\n",
              "      display:flex;\n",
              "      gap: 12px;\n",
              "    }\n",
              "\n",
              "    .colab-df-convert {\n",
              "      background-color: #E8F0FE;\n",
              "      border: none;\n",
              "      border-radius: 50%;\n",
              "      cursor: pointer;\n",
              "      display: none;\n",
              "      fill: #1967D2;\n",
              "      height: 32px;\n",
              "      padding: 0 0 0 0;\n",
              "      width: 32px;\n",
              "    }\n",
              "\n",
              "    .colab-df-convert:hover {\n",
              "      background-color: #E2EBFA;\n",
              "      box-shadow: 0px 1px 2px rgba(60, 64, 67, 0.3), 0px 1px 3px 1px rgba(60, 64, 67, 0.15);\n",
              "      fill: #174EA6;\n",
              "    }\n",
              "\n",
              "    .colab-df-buttons div {\n",
              "      margin-bottom: 4px;\n",
              "    }\n",
              "\n",
              "    [theme=dark] .colab-df-convert {\n",
              "      background-color: #3B4455;\n",
              "      fill: #D2E3FC;\n",
              "    }\n",
              "\n",
              "    [theme=dark] .colab-df-convert:hover {\n",
              "      background-color: #434B5C;\n",
              "      box-shadow: 0px 1px 3px 1px rgba(0, 0, 0, 0.15);\n",
              "      filter: drop-shadow(0px 1px 2px rgba(0, 0, 0, 0.3));\n",
              "      fill: #FFFFFF;\n",
              "    }\n",
              "  </style>\n",
              "\n",
              "    <script>\n",
              "      const buttonEl =\n",
              "        document.querySelector('#df-37de27f9-8bb9-4239-b07d-5d08cc634eff button.colab-df-convert');\n",
              "      buttonEl.style.display =\n",
              "        google.colab.kernel.accessAllowed ? 'block' : 'none';\n",
              "\n",
              "      async function convertToInteractive(key) {\n",
              "        const element = document.querySelector('#df-37de27f9-8bb9-4239-b07d-5d08cc634eff');\n",
              "        const dataTable =\n",
              "          await google.colab.kernel.invokeFunction('convertToInteractive',\n",
              "                                                    [key], {});\n",
              "        if (!dataTable) return;\n",
              "\n",
              "        const docLinkHtml = 'Like what you see? Visit the ' +\n",
              "          '<a target=\"_blank\" href=https://colab.research.google.com/notebooks/data_table.ipynb>data table notebook</a>'\n",
              "          + ' to learn more about interactive tables.';\n",
              "        element.innerHTML = '';\n",
              "        dataTable['output_type'] = 'display_data';\n",
              "        await google.colab.output.renderOutput(dataTable, element);\n",
              "        const docLink = document.createElement('div');\n",
              "        docLink.innerHTML = docLinkHtml;\n",
              "        element.appendChild(docLink);\n",
              "      }\n",
              "    </script>\n",
              "  </div>\n",
              "\n",
              "\n",
              "<div id=\"df-e535d38b-cbb3-4bde-bf2b-55d1f5d451a9\">\n",
              "  <button class=\"colab-df-quickchart\" onclick=\"quickchart('df-e535d38b-cbb3-4bde-bf2b-55d1f5d451a9')\"\n",
              "            title=\"Suggest charts\"\n",
              "            style=\"display:none;\">\n",
              "\n",
              "<svg xmlns=\"http://www.w3.org/2000/svg\" height=\"24px\"viewBox=\"0 0 24 24\"\n",
              "     width=\"24px\">\n",
              "    <g>\n",
              "        <path d=\"M19 3H5c-1.1 0-2 .9-2 2v14c0 1.1.9 2 2 2h14c1.1 0 2-.9 2-2V5c0-1.1-.9-2-2-2zM9 17H7v-7h2v7zm4 0h-2V7h2v10zm4 0h-2v-4h2v4z\"/>\n",
              "    </g>\n",
              "</svg>\n",
              "  </button>\n",
              "\n",
              "<style>\n",
              "  .colab-df-quickchart {\n",
              "      --bg-color: #E8F0FE;\n",
              "      --fill-color: #1967D2;\n",
              "      --hover-bg-color: #E2EBFA;\n",
              "      --hover-fill-color: #174EA6;\n",
              "      --disabled-fill-color: #AAA;\n",
              "      --disabled-bg-color: #DDD;\n",
              "  }\n",
              "\n",
              "  [theme=dark] .colab-df-quickchart {\n",
              "      --bg-color: #3B4455;\n",
              "      --fill-color: #D2E3FC;\n",
              "      --hover-bg-color: #434B5C;\n",
              "      --hover-fill-color: #FFFFFF;\n",
              "      --disabled-bg-color: #3B4455;\n",
              "      --disabled-fill-color: #666;\n",
              "  }\n",
              "\n",
              "  .colab-df-quickchart {\n",
              "    background-color: var(--bg-color);\n",
              "    border: none;\n",
              "    border-radius: 50%;\n",
              "    cursor: pointer;\n",
              "    display: none;\n",
              "    fill: var(--fill-color);\n",
              "    height: 32px;\n",
              "    padding: 0;\n",
              "    width: 32px;\n",
              "  }\n",
              "\n",
              "  .colab-df-quickchart:hover {\n",
              "    background-color: var(--hover-bg-color);\n",
              "    box-shadow: 0 1px 2px rgba(60, 64, 67, 0.3), 0 1px 3px 1px rgba(60, 64, 67, 0.15);\n",
              "    fill: var(--button-hover-fill-color);\n",
              "  }\n",
              "\n",
              "  .colab-df-quickchart-complete:disabled,\n",
              "  .colab-df-quickchart-complete:disabled:hover {\n",
              "    background-color: var(--disabled-bg-color);\n",
              "    fill: var(--disabled-fill-color);\n",
              "    box-shadow: none;\n",
              "  }\n",
              "\n",
              "  .colab-df-spinner {\n",
              "    border: 2px solid var(--fill-color);\n",
              "    border-color: transparent;\n",
              "    border-bottom-color: var(--fill-color);\n",
              "    animation:\n",
              "      spin 1s steps(1) infinite;\n",
              "  }\n",
              "\n",
              "  @keyframes spin {\n",
              "    0% {\n",
              "      border-color: transparent;\n",
              "      border-bottom-color: var(--fill-color);\n",
              "      border-left-color: var(--fill-color);\n",
              "    }\n",
              "    20% {\n",
              "      border-color: transparent;\n",
              "      border-left-color: var(--fill-color);\n",
              "      border-top-color: var(--fill-color);\n",
              "    }\n",
              "    30% {\n",
              "      border-color: transparent;\n",
              "      border-left-color: var(--fill-color);\n",
              "      border-top-color: var(--fill-color);\n",
              "      border-right-color: var(--fill-color);\n",
              "    }\n",
              "    40% {\n",
              "      border-color: transparent;\n",
              "      border-right-color: var(--fill-color);\n",
              "      border-top-color: var(--fill-color);\n",
              "    }\n",
              "    60% {\n",
              "      border-color: transparent;\n",
              "      border-right-color: var(--fill-color);\n",
              "    }\n",
              "    80% {\n",
              "      border-color: transparent;\n",
              "      border-right-color: var(--fill-color);\n",
              "      border-bottom-color: var(--fill-color);\n",
              "    }\n",
              "    90% {\n",
              "      border-color: transparent;\n",
              "      border-bottom-color: var(--fill-color);\n",
              "    }\n",
              "  }\n",
              "</style>\n",
              "\n",
              "  <script>\n",
              "    async function quickchart(key) {\n",
              "      const quickchartButtonEl =\n",
              "        document.querySelector('#' + key + ' button');\n",
              "      quickchartButtonEl.disabled = true;  // To prevent multiple clicks.\n",
              "      quickchartButtonEl.classList.add('colab-df-spinner');\n",
              "      try {\n",
              "        const charts = await google.colab.kernel.invokeFunction(\n",
              "            'suggestCharts', [key], {});\n",
              "      } catch (error) {\n",
              "        console.error('Error during call to suggestCharts:', error);\n",
              "      }\n",
              "      quickchartButtonEl.classList.remove('colab-df-spinner');\n",
              "      quickchartButtonEl.classList.add('colab-df-quickchart-complete');\n",
              "    }\n",
              "    (() => {\n",
              "      let quickchartButtonEl =\n",
              "        document.querySelector('#df-e535d38b-cbb3-4bde-bf2b-55d1f5d451a9 button');\n",
              "      quickchartButtonEl.style.display =\n",
              "        google.colab.kernel.accessAllowed ? 'block' : 'none';\n",
              "    })();\n",
              "  </script>\n",
              "</div>\n",
              "    </div>\n",
              "  </div>\n"
            ]
          },
          "metadata": {},
          "execution_count": 6
        }
      ]
    },
    {
      "cell_type": "code",
      "source": [
        "y = data.Outcome\n",
        "X = data.drop([\"Outcome\"], axis=1)\n"
      ],
      "metadata": {
        "id": "RoipD5C8OYor"
      },
      "execution_count": 7,
      "outputs": []
    },
    {
      "cell_type": "code",
      "source": [
        "y.shape, X.shape\n"
      ],
      "metadata": {
        "colab": {
          "base_uri": "https://localhost:8080/"
        },
        "id": "WsVjGWpoOZ1I",
        "outputId": "058f56a7-34c5-49d4-9030-416a37ecd289"
      },
      "execution_count": 8,
      "outputs": [
        {
          "output_type": "execute_result",
          "data": {
            "text/plain": [
              "((768,), (768, 8))"
            ]
          },
          "metadata": {},
          "execution_count": 8
        }
      ]
    },
    {
      "cell_type": "code",
      "source": [
        "from sklearn.linear_model import LogisticRegression\n",
        "logistic = LogisticRegression()\n",
        "logistic.fit(X, y)"
      ],
      "metadata": {
        "colab": {
          "base_uri": "https://localhost:8080/",
          "height": 234
        },
        "id": "K3idaLXAObuq",
        "outputId": "58f26d11-5f9c-4002-bf18-0e9851d6d833"
      },
      "execution_count": 9,
      "outputs": [
        {
          "output_type": "stream",
          "name": "stderr",
          "text": [
            "/usr/local/lib/python3.10/dist-packages/sklearn/linear_model/_logistic.py:458: ConvergenceWarning: lbfgs failed to converge (status=1):\n",
            "STOP: TOTAL NO. of ITERATIONS REACHED LIMIT.\n",
            "\n",
            "Increase the number of iterations (max_iter) or scale the data as shown in:\n",
            "    https://scikit-learn.org/stable/modules/preprocessing.html\n",
            "Please also refer to the documentation for alternative solver options:\n",
            "    https://scikit-learn.org/stable/modules/linear_model.html#logistic-regression\n",
            "  n_iter_i = _check_optimize_result(\n"
          ]
        },
        {
          "output_type": "execute_result",
          "data": {
            "text/plain": [
              "LogisticRegression()"
            ],
            "text/html": [
              "<style>#sk-container-id-1 {color: black;background-color: white;}#sk-container-id-1 pre{padding: 0;}#sk-container-id-1 div.sk-toggleable {background-color: white;}#sk-container-id-1 label.sk-toggleable__label {cursor: pointer;display: block;width: 100%;margin-bottom: 0;padding: 0.3em;box-sizing: border-box;text-align: center;}#sk-container-id-1 label.sk-toggleable__label-arrow:before {content: \"▸\";float: left;margin-right: 0.25em;color: #696969;}#sk-container-id-1 label.sk-toggleable__label-arrow:hover:before {color: black;}#sk-container-id-1 div.sk-estimator:hover label.sk-toggleable__label-arrow:before {color: black;}#sk-container-id-1 div.sk-toggleable__content {max-height: 0;max-width: 0;overflow: hidden;text-align: left;background-color: #f0f8ff;}#sk-container-id-1 div.sk-toggleable__content pre {margin: 0.2em;color: black;border-radius: 0.25em;background-color: #f0f8ff;}#sk-container-id-1 input.sk-toggleable__control:checked~div.sk-toggleable__content {max-height: 200px;max-width: 100%;overflow: auto;}#sk-container-id-1 input.sk-toggleable__control:checked~label.sk-toggleable__label-arrow:before {content: \"▾\";}#sk-container-id-1 div.sk-estimator input.sk-toggleable__control:checked~label.sk-toggleable__label {background-color: #d4ebff;}#sk-container-id-1 div.sk-label input.sk-toggleable__control:checked~label.sk-toggleable__label {background-color: #d4ebff;}#sk-container-id-1 input.sk-hidden--visually {border: 0;clip: rect(1px 1px 1px 1px);clip: rect(1px, 1px, 1px, 1px);height: 1px;margin: -1px;overflow: hidden;padding: 0;position: absolute;width: 1px;}#sk-container-id-1 div.sk-estimator {font-family: monospace;background-color: #f0f8ff;border: 1px dotted black;border-radius: 0.25em;box-sizing: border-box;margin-bottom: 0.5em;}#sk-container-id-1 div.sk-estimator:hover {background-color: #d4ebff;}#sk-container-id-1 div.sk-parallel-item::after {content: \"\";width: 100%;border-bottom: 1px solid gray;flex-grow: 1;}#sk-container-id-1 div.sk-label:hover label.sk-toggleable__label {background-color: #d4ebff;}#sk-container-id-1 div.sk-serial::before {content: \"\";position: absolute;border-left: 1px solid gray;box-sizing: border-box;top: 0;bottom: 0;left: 50%;z-index: 0;}#sk-container-id-1 div.sk-serial {display: flex;flex-direction: column;align-items: center;background-color: white;padding-right: 0.2em;padding-left: 0.2em;position: relative;}#sk-container-id-1 div.sk-item {position: relative;z-index: 1;}#sk-container-id-1 div.sk-parallel {display: flex;align-items: stretch;justify-content: center;background-color: white;position: relative;}#sk-container-id-1 div.sk-item::before, #sk-container-id-1 div.sk-parallel-item::before {content: \"\";position: absolute;border-left: 1px solid gray;box-sizing: border-box;top: 0;bottom: 0;left: 50%;z-index: -1;}#sk-container-id-1 div.sk-parallel-item {display: flex;flex-direction: column;z-index: 1;position: relative;background-color: white;}#sk-container-id-1 div.sk-parallel-item:first-child::after {align-self: flex-end;width: 50%;}#sk-container-id-1 div.sk-parallel-item:last-child::after {align-self: flex-start;width: 50%;}#sk-container-id-1 div.sk-parallel-item:only-child::after {width: 0;}#sk-container-id-1 div.sk-dashed-wrapped {border: 1px dashed gray;margin: 0 0.4em 0.5em 0.4em;box-sizing: border-box;padding-bottom: 0.4em;background-color: white;}#sk-container-id-1 div.sk-label label {font-family: monospace;font-weight: bold;display: inline-block;line-height: 1.2em;}#sk-container-id-1 div.sk-label-container {text-align: center;}#sk-container-id-1 div.sk-container {/* jupyter's `normalize.less` sets `[hidden] { display: none; }` but bootstrap.min.css set `[hidden] { display: none !important; }` so we also need the `!important` here to be able to override the default hidden behavior on the sphinx rendered scikit-learn.org. See: https://github.com/scikit-learn/scikit-learn/issues/21755 */display: inline-block !important;position: relative;}#sk-container-id-1 div.sk-text-repr-fallback {display: none;}</style><div id=\"sk-container-id-1\" class=\"sk-top-container\"><div class=\"sk-text-repr-fallback\"><pre>LogisticRegression()</pre><b>In a Jupyter environment, please rerun this cell to show the HTML representation or trust the notebook. <br />On GitHub, the HTML representation is unable to render, please try loading this page with nbviewer.org.</b></div><div class=\"sk-container\" hidden><div class=\"sk-item\"><div class=\"sk-estimator sk-toggleable\"><input class=\"sk-toggleable__control sk-hidden--visually\" id=\"sk-estimator-id-1\" type=\"checkbox\" checked><label for=\"sk-estimator-id-1\" class=\"sk-toggleable__label sk-toggleable__label-arrow\">LogisticRegression</label><div class=\"sk-toggleable__content\"><pre>LogisticRegression()</pre></div></div></div></div></div>"
            ]
          },
          "metadata": {},
          "execution_count": 9
        }
      ]
    },
    {
      "cell_type": "code",
      "source": [
        "print(\"Coefficients: \\n\", logistic.coef_[0])"
      ],
      "metadata": {
        "colab": {
          "base_uri": "https://localhost:8080/"
        },
        "id": "P9W_bAbyOfRT",
        "outputId": "46b5c188-78a3-4482-afdd-b8481257cd76"
      },
      "execution_count": 10,
      "outputs": [
        {
          "output_type": "stream",
          "name": "stdout",
          "text": [
            "Coefficients: \n",
            " [ 1.17252342e-01  3.35998330e-02 -1.40873785e-02 -1.27048112e-03\n",
            " -1.24032092e-03  7.72023486e-02  1.41904173e+00  1.00353713e-02]\n"
          ]
        }
      ]
    },
    {
      "cell_type": "code",
      "source": [
        "_ = [print(k, v) for k, v in zip(X.columns, logistic.coef_[0])]"
      ],
      "metadata": {
        "colab": {
          "base_uri": "https://localhost:8080/"
        },
        "id": "1IC9TG-dOgv8",
        "outputId": "5dfa0525-8601-4314-9d97-760ab1d8b0c1"
      },
      "execution_count": 11,
      "outputs": [
        {
          "output_type": "stream",
          "name": "stdout",
          "text": [
            "Pregnancies 0.11725234162003154\n",
            "Glucose 0.033599833017272665\n",
            "BloodPressure -0.014087378542667953\n",
            "SkinThickness -0.0012704811238511405\n",
            "Insulin -0.0012403209242111725\n",
            "BMI 0.07720234864219887\n",
            "DiabetesPedigreeFunction 1.419041726277172\n",
            "Age 0.010035371255526136\n"
          ]
        }
      ]
    },
    {
      "cell_type": "code",
      "source": [
        "print(\"Intercept: \\n\", logistic.intercept_)"
      ],
      "metadata": {
        "colab": {
          "base_uri": "https://localhost:8080/"
        },
        "id": "5Pid9-j4OjNj",
        "outputId": "afd46123-7959-4068-fee3-088ae2f8f0ff"
      },
      "execution_count": 12,
      "outputs": [
        {
          "output_type": "stream",
          "name": "stdout",
          "text": [
            "Intercept: \n",
            " [-7.70291291]\n"
          ]
        }
      ]
    },
    {
      "cell_type": "code",
      "source": [
        "y_pred = logistic.predict(X)"
      ],
      "metadata": {
        "id": "xfiKJpVsOkGE"
      },
      "execution_count": 13,
      "outputs": []
    },
    {
      "cell_type": "code",
      "source": [
        "_ = [print(a, b) for a, b in list(zip(y, y_pred))[:10]]"
      ],
      "metadata": {
        "colab": {
          "base_uri": "https://localhost:8080/"
        },
        "id": "SO2WDmABOlZ4",
        "outputId": "4ccc9976-4ca2-46e0-a98d-edb503ccfcd2"
      },
      "execution_count": 14,
      "outputs": [
        {
          "output_type": "stream",
          "name": "stdout",
          "text": [
            "1 1\n",
            "0 0\n",
            "1 1\n",
            "0 0\n",
            "1 1\n",
            "0 0\n",
            "1 0\n",
            "0 1\n",
            "1 1\n",
            "1 0\n"
          ]
        }
      ]
    },
    {
      "cell_type": "code",
      "source": [
        "from sklearn import metrics\n",
        "metrics.confusion_matrix(y, y_pred)"
      ],
      "metadata": {
        "colab": {
          "base_uri": "https://localhost:8080/"
        },
        "id": "GP42h96ZOmN1",
        "outputId": "f074a3f5-d400-4349-ef10-e529b6f7d712"
      },
      "execution_count": 15,
      "outputs": [
        {
          "output_type": "execute_result",
          "data": {
            "text/plain": [
              "array([[447,  53],\n",
              "       [114, 154]])"
            ]
          },
          "metadata": {},
          "execution_count": 15
        }
      ]
    },
    {
      "cell_type": "code",
      "source": [
        "import seaborn as sns\n",
        "sns.heatmap(metrics.confusion_matrix(y, y_pred), annot=True)"
      ],
      "metadata": {
        "colab": {
          "base_uri": "https://localhost:8080/",
          "height": 447
        },
        "id": "7VFAGC_uOnaA",
        "outputId": "94cffb35-e7ef-49a9-a7f6-d8658bc48070"
      },
      "execution_count": 16,
      "outputs": [
        {
          "output_type": "execute_result",
          "data": {
            "text/plain": [
              "<Axes: >"
            ]
          },
          "metadata": {},
          "execution_count": 16
        },
        {
          "output_type": "display_data",
          "data": {
            "text/plain": [
              "<Figure size 640x480 with 2 Axes>"
            ],
            "image/png": "[encoded data removed]"
          },
          "metadata": {}
        }
      ]
    },
    {
      "cell_type": "code",
      "source": [
        "logistic.score(X, y)"
      ],
      "metadata": {
        "colab": {
          "base_uri": "https://localhost:8080/"
        },
        "id": "U4ihNzOMOpZP",
        "outputId": "f8b0b18a-cc5e-484b-8604-1a9c8272e100"
      },
      "execution_count": 17,
      "outputs": [
        {
          "output_type": "execute_result",
          "data": {
            "text/plain": [
              "0.7825520833333334"
            ]
          },
          "metadata": {},
          "execution_count": 17
        }
      ]
    },
    {
      "cell_type": "code",
      "source": [
        "metrics.accuracy_score(y_test, y_pred)"
      ],
      "metadata": {
        "id": "1r-j_RNXOw_d"
      },
      "execution_count": null,
      "outputs": []
    },
    {
      "cell_type": "code",
      "source": [
        "from sklearn.preprocessing import PolynomialFeatures"
      ],
      "metadata": {
        "id": "esWMSZnAOx5e"
      },
      "execution_count": 19,
      "outputs": []
    },
    {
      "cell_type": "code",
      "source": [
        "poly = PolynomialFeatures(2)"
      ],
      "metadata": {
        "id": "70kIsnXaOy_Z"
      },
      "execution_count": 20,
      "outputs": []
    },
    {
      "cell_type": "code",
      "source": [
        "poly = poly.fit_transform(X)\n",
        "poly"
      ],
      "metadata": {
        "colab": {
          "base_uri": "https://localhost:8080/"
        },
        "id": "LP3vtHOmO0EM",
        "outputId": "59f271e6-0ebd-40d4-e186-db806acb237a"
      },
      "execution_count": 21,
      "outputs": [
        {
          "output_type": "execute_result",
          "data": {
            "text/plain": [
              "array([[1.00000e+00, 6.00000e+00, 1.48000e+02, ..., 3.93129e-01,\n",
              "        3.13500e+01, 2.50000e+03],\n",
              "       [1.00000e+00, 1.00000e+00, 8.50000e+01, ..., 1.23201e-01,\n",
              "        1.08810e+01, 9.61000e+02],\n",
              "       [1.00000e+00, 8.00000e+00, 1.83000e+02, ..., 4.51584e-01,\n",
              "        2.15040e+01, 1.02400e+03],\n",
              "       ...,\n",
              "       [1.00000e+00, 5.00000e+00, 1.21000e+02, ..., 6.00250e-02,\n",
              "        7.35000e+00, 9.00000e+02],\n",
              "       [1.00000e+00, 1.00000e+00, 1.26000e+02, ..., 1.21801e-01,\n",
              "        1.64030e+01, 2.20900e+03],\n",
              "       [1.00000e+00, 1.00000e+00, 9.30000e+01, ..., 9.92250e-02,\n",
              "        7.24500e+00, 5.29000e+02]])"
            ]
          },
          "metadata": {},
          "execution_count": 21
        }
      ]
    },
    {
      "cell_type": "code",
      "source": [
        "polynomial = LogisticRegression()\n",
        "polynomial.fit(poly, y)\n",
        "y_pred_poly = polynomial.predict(poly)"
      ],
      "metadata": {
        "colab": {
          "base_uri": "https://localhost:8080/"
        },
        "id": "pE5Hm2TUO1g0",
        "outputId": "e5525b0d-69af-4e68-cd11-30edf2967fc0"
      },
      "execution_count": 22,
      "outputs": [
        {
          "output_type": "stream",
          "name": "stderr",
          "text": [
            "/usr/local/lib/python3.10/dist-packages/sklearn/linear_model/_logistic.py:458: ConvergenceWarning: lbfgs failed to converge (status=1):\n",
            "STOP: TOTAL NO. of ITERATIONS REACHED LIMIT.\n",
            "\n",
            "Increase the number of iterations (max_iter) or scale the data as shown in:\n",
            "    https://scikit-learn.org/stable/modules/preprocessing.html\n",
            "Please also refer to the documentation for alternative solver options:\n",
            "    https://scikit-learn.org/stable/modules/linear_model.html#logistic-regression\n",
            "  n_iter_i = _check_optimize_result(\n"
          ]
        }
      ]
    },
    {
      "cell_type": "markdown",
      "source": [
        "##Задания для самостоятельного выполнения"
      ],
      "metadata": {
        "id": "5Szz3HJ5FZZN"
      }
    },
    {
      "cell_type": "markdown",
      "source": [
        "#### 1. Изучите документацию sklearn, посвященную классу LogisticRegression. Какую еще информацию можно вывести для обученной модели? Попробуйте изменить аргументы при создании модели и посмотрите, как это влияет на качество предсказания."
      ],
      "metadata": {
        "id": "zO2-iJODJj4z"
      }
    },
    {
      "cell_type": "code",
      "source": [
        "# Расчет точности\n",
        "accuracy = logistic.score(X, y)\n",
        "print(\"Accuracy: \", accuracy)\n",
        "\n",
        "# Вывод вероятностей для каждого класса\n",
        "probabilities = logistic.predict_proba(X)\n",
        "print(\"Predicted Probabilities:\\n\", probabilities)\n",
        "\n",
        "# Значения решающей функции\n",
        "decision_values = logistic.decision_function(X)\n",
        "print(\"Decision Function Values:\\n\", decision_values)\n",
        "\n",
        "# Получение параметров модели\n",
        "params = logistic.get_params()\n",
        "print(\"Model Parameters:\\n\", params)"
      ],
      "metadata": {
        "colab": {
          "base_uri": "https://localhost:8080/"
        },
        "id": "ZjfpjVHYO5EZ",
        "outputId": "6cb5ac71-8c83-4218-fe56-523f475b5416"
      },
      "execution_count": 23,
      "outputs": [
        {
          "output_type": "stream",
          "name": "stdout",
          "text": [
            "Accuracy:  0.7825520833333334\n",
            "Predicted Probabilities:\n",
            " [[0.28902482 0.71097518]\n",
            " [0.94446069 0.05553931]\n",
            " [0.17424645 0.82575355]\n",
            " ...\n",
            " [0.82665044 0.17334956]\n",
            " [0.71230916 0.28769084]\n",
            " [0.92140665 0.07859335]]\n",
            "Decision Function Values:\n",
            " [ 9.00124972e-01 -2.83352307e+00  1.55582568e+00 -3.05374488e+00\n",
            "  2.98928426e+00 -1.69886793e+00 -2.57842667e+00  5.40011568e-01\n",
            "  5.44731370e-01 -3.04617566e+00 -1.35905432e+00  2.10883372e+00\n",
            "  1.72203595e+00  3.21588797e-01  5.42036543e-01 -1.98144682e-01\n",
            " -6.37602769e-01 -1.37270777e+00 -7.65010460e-01 -1.12197530e+00\n",
            " -3.96818679e-01 -8.36530611e-01  2.55964820e+00 -9.17616978e-01\n",
            "  5.42259147e-01 -3.88849462e-01  8.24375390e-01 -2.74599992e+00\n",
            "  1.11773596e-02 -9.89348306e-01 -3.87651694e-01  4.65550137e-01\n",
            " -2.77811060e+00 -3.12015607e+00 -2.60484414e-01 -1.34361302e+00\n",
            "  6.63352529e-01 -3.92860342e-01 -1.52186247e+00  5.63583547e-01\n",
            "  9.46997153e-01  8.65787669e-01 -2.07180576e+00  2.29017516e+00\n",
            "  4.92592175e-01  3.54537020e+00 -8.47030914e-02 -2.88923719e+00\n",
            " -5.73927403e-01 -2.68050742e+00 -2.95229644e+00 -2.08452269e+00\n",
            " -2.47472965e+00  1.31198290e+00  8.69790537e-01 -3.51162733e+00\n",
            "  1.69888955e+00 -5.05998523e-01  2.14306244e+00 -1.63456811e+00\n",
            " -4.00389077e+00  4.07037476e-03 -3.38736644e+00 -5.56158431e-01\n",
            " -6.61697145e-01 -2.01897127e+00 -1.21463374e+00 -6.45246601e-02\n",
            " -3.14908161e+00 -9.13788396e-01 -1.12397357e+00 -5.13845434e-01\n",
            "  1.38645127e+00 -1.20292130e+00 -2.77274774e+00 -5.96092234e+00\n",
            " -2.41468030e+00 -1.27435519e+00  6.77867596e-01 -2.05639106e+00\n",
            " -2.04195905e+00 -4.61650016e+00 -1.60156401e+00 -2.80431402e+00\n",
            "  4.25994861e-01 -1.24397443e+00 -1.70160311e-01 -1.49321188e+00\n",
            "  9.75083792e-01 -2.45170628e+00 -3.62105933e+00 -1.02515480e+00\n",
            " -9.72525055e-01 -9.13204443e-01 -7.57114616e-01 -1.11980212e-01\n",
            " -2.42129598e+00 -3.73934309e+00 -1.74477849e+00 -4.82768352e-01\n",
            "  1.95294880e+00 -8.67560559e-01 -2.53573755e+00 -3.25482665e+00\n",
            " -8.80225190e-01 -8.03244914e-01 -3.78470751e+00 -3.65770948e-01\n",
            " -2.06542553e+00 -2.30604947e+00  2.64831528e-01  7.79717693e-01\n",
            " -2.84302160e+00 -2.12312425e+00  1.05584441e+00  1.61367666e-01\n",
            " -6.74324778e-01 -1.39140168e+00 -1.82266363e+00 -2.74219084e+00\n",
            "  1.90954213e+00 -9.70838303e-01 -1.67973332e+00 -7.83058206e-01\n",
            " -1.78062720e+00 -1.67550735e-02 -2.56401425e-01 -1.42825408e+00\n",
            " -1.46773780e+00 -1.53062178e+00  5.02941489e-01  1.14546254e+00\n",
            "  6.02864512e-01 -1.02762763e+00 -2.47004877e+00 -1.26731480e+00\n",
            " -1.98835162e+00 -2.37782693e+00 -7.98199356e-01 -1.68752355e+00\n",
            " -1.58797463e+00 -9.11665563e-01 -1.50223290e+00 -5.22553473e-01\n",
            " -2.25219322e-01 -4.33906973e+00 -2.82653418e+00 -3.17950510e-01\n",
            "  2.87078103e-01 -3.00311710e+00 -6.80684417e-01 -1.64413599e+00\n",
            "  1.91136111e+00  8.51435472e-02  2.77698108e+00  1.62904548e+00\n",
            " -1.99636567e+00 -1.54792091e+00 -2.85935825e+00  3.34796771e+00\n",
            " -4.05089722e-01 -1.06547892e+00 -1.47593125e+00 -2.01337831e+00\n",
            " -7.25949996e-01 -1.01949239e+00 -2.46780430e-01 -5.27372596e-01\n",
            " -1.04553955e+00 -1.81543117e+00 -1.73284772e+00  1.19509004e-01\n",
            " -9.95492408e-01 -1.33818609e+00 -2.79959973e+00  1.92666392e+00\n",
            " -1.86995577e+00  7.56041615e-01  8.04695459e-01  8.42686509e-01\n",
            " -2.97177780e+00 -7.89122435e-01 -5.90852225e+00 -2.78882495e+00\n",
            " -6.60347246e-01  2.88290650e+00  1.49766131e+00 -1.13276850e-01\n",
            " -9.90869756e-01 -6.13430321e-01 -2.33797209e+00 -1.85936013e-01\n",
            "  7.82177693e-01  3.38214411e+00 -2.21091124e+00  5.89545282e-01\n",
            " -2.52262539e+00 -1.74458527e+00 -4.20012764e-01 -6.45661415e-01\n",
            " -1.20919169e+00 -3.92350229e-01 -1.51194047e+00 -3.02368533e+00\n",
            " -9.06980204e-01 -1.74329332e+00  2.69152299e+00  5.08077528e-01\n",
            " -2.21991591e+00  1.73085049e+00 -2.81910361e+00  4.74794663e-02\n",
            "  1.22970316e+00  3.23858243e-02 -9.26792598e-01  2.06595850e+00\n",
            " -7.95662188e-01 -6.48676718e-01 -1.03417493e+00 -5.83167997e-01\n",
            "  1.17245426e+00  8.16758631e-01 -2.70378746e-01  5.76667158e-01\n",
            " -2.21598257e+00 -2.79998124e+00 -2.08195678e+00  1.34918658e+00\n",
            "  3.87617042e+00 -1.14715487e+00  8.58721612e-01  2.36169453e-01\n",
            " -3.12689880e+00 -5.40455247e-01 -2.97459538e+00  1.80403969e+00\n",
            "  1.86618844e+00  1.61818988e+00  1.53089877e+00 -2.76181052e+00\n",
            " -2.72265215e+00 -1.90317036e+00 -6.73884470e-01  3.42013169e-01\n",
            " -2.11542261e-01  2.84734431e+00 -2.02875342e-01  5.62278554e-01\n",
            " -5.33578396e-01 -2.33420560e+00 -4.49168493e-01 -1.48174093e+00\n",
            " -3.17949032e+00 -2.45946411e+00 -5.20640012e-01 -1.15965714e+00\n",
            " -1.04475831e+00 -2.02677606e+00  8.79152303e-01  2.50518019e+00\n",
            "  1.07922022e+00  1.05333681e+00 -1.48119346e+00 -3.08634266e-01\n",
            " -8.32124971e-01 -5.99198927e-01  1.31115951e+00  7.68725762e-01\n",
            " -2.74906662e+00  1.81792391e-01  1.11847389e+00 -2.48527777e+00\n",
            " -1.81328632e+00 -3.04553007e+00 -8.48275648e-02 -8.93034084e-01\n",
            " -1.43937412e+00 -2.26193702e+00 -7.78614563e-01 -1.64638441e+00\n",
            " -1.02534442e-01  1.06731051e-01 -6.19911234e-01  3.68667775e-01\n",
            " -1.99278202e+00 -1.18326079e-01  3.83427389e-01 -1.63175782e-01\n",
            " -2.53038399e+00 -1.15843524e+00 -2.73289847e+00 -9.60341600e-01\n",
            "  8.51673942e-01 -2.14534136e-02 -2.94241556e-01  1.01618568e+00\n",
            " -1.11283433e+00 -1.60732399e+00 -1.88315201e-01 -4.19982123e-01\n",
            "  1.89353221e+00 -3.67155322e-01 -2.45235972e+00  2.83408572e-02\n",
            " -1.09552201e+00 -1.02325755e+00  6.31228396e-01 -1.93074775e+00\n",
            " -2.80299760e-02 -4.67130016e-01 -2.40098182e+00 -1.23695146e+00\n",
            " -5.04586544e-01 -9.60202084e-01  4.16205388e-01 -1.46719154e+00\n",
            " -3.05104421e+00  8.56814508e-01 -1.20487963e+00  1.00955170e+00\n",
            " -8.64531617e-01 -1.69852531e+00 -1.71100542e+00  1.12064631e+00\n",
            " -1.62555090e+00 -1.16806089e+00 -6.29378177e-01  1.86278364e+00\n",
            " -1.52357694e+00 -1.66026594e+00  5.00962642e-01 -2.43615309e+00\n",
            "  2.61679106e+00 -1.40335231e+00 -2.89886127e+00  7.25950205e-01\n",
            "  6.01810161e-01 -9.86310249e-01  1.34411786e+00  1.87681070e+00\n",
            " -1.46044203e+00 -2.23753670e+00 -5.34480859e+00 -8.07375278e-01\n",
            " -4.85903466e-01  8.57266801e-03 -3.25850107e-01 -1.14314572e+00\n",
            " -2.67426928e+00 -4.25670341e+00 -1.38443142e+00 -7.46693287e-01\n",
            " -3.03008957e+00 -2.33987565e+00 -1.12545903e+00  9.23876492e-01\n",
            " -1.31056462e-01  2.44699635e+00 -7.56023592e-01  1.92526171e+00\n",
            "  1.41413520e+00  4.32605933e-01 -1.11287416e+00  9.55418545e-01\n",
            " -1.90615991e-01 -1.05546347e+00 -9.03292877e-01 -3.04292955e+00\n",
            " -3.16520332e+00 -1.44712928e+00  2.91666450e+00 -2.11223044e+00\n",
            " -2.14396631e+00 -1.66037249e+00 -1.18720212e-01  1.15282941e+00\n",
            " -3.09796766e+00 -1.83275190e+00  1.33885427e+00 -9.75056636e-01\n",
            " -1.36087593e+00 -3.06110378e+00 -1.48890877e+00 -1.54313252e+00\n",
            " -2.09821521e+00 -2.17316634e+00 -5.16939142e-01 -5.57782509e-01\n",
            " -1.26030711e-01 -1.01154617e+00 -1.91337583e+00  1.67185685e+00\n",
            " -2.02574890e+00 -1.73927090e+00  9.66598833e-01  2.69978911e-01\n",
            " -1.46244550e+00 -1.13497011e+00 -3.15022501e+00  1.39534578e+00\n",
            " -1.93347425e+00 -6.21034271e-01 -4.32485546e-01 -2.14076140e+00\n",
            "  7.69506643e-01 -8.09105581e-03 -1.15787936e+00 -2.76433351e+00\n",
            "  2.89280592e+00  1.00570685e+00 -8.96080360e-01 -1.43728234e+00\n",
            "  6.43101851e-01 -1.33024161e+00 -5.23266758e-01 -8.54778619e-03\n",
            " -1.43656587e+00  5.38400250e-01 -3.19329636e+00 -1.46794797e+00\n",
            " -6.12273833e-01 -2.37101244e+00 -1.28350649e+00 -1.34797854e+00\n",
            "  1.31422195e+00  9.98742970e-01 -3.93036964e+00  8.12334664e-01\n",
            " -9.31094843e-01 -2.33962138e+00 -2.04406257e+00 -2.01880424e+00\n",
            " -2.74385087e+00 -1.35019897e+00 -1.66218080e+00  8.89972448e-01\n",
            "  8.13803001e-01 -2.88244101e-02 -3.50722580e+00 -4.60119765e-01\n",
            "  8.27380065e-01 -2.28866865e+00 -1.25711033e+00 -8.12049754e-02\n",
            " -1.05817958e+00  5.41962147e+00 -2.17409749e+00 -2.26211108e+00\n",
            " -1.69802248e+00 -1.79438966e+00 -3.41000758e+00 -7.21065070e-01\n",
            " -2.03247975e+00 -5.36726175e-02 -1.16917007e+00  2.18323862e+00\n",
            " -1.52024160e-01 -2.21975253e+00  1.73917985e+00  1.61089740e-01\n",
            " -5.99697427e-01 -3.53923768e+00 -1.25917120e+00 -2.42858953e+00\n",
            " -4.02652159e-01 -1.93701591e+00 -3.25769963e+00 -1.57173500e+00\n",
            "  2.24184988e-01  1.49068136e+00  3.77536823e-01 -1.10899733e+00\n",
            " -1.08484165e+00 -4.72315747e-01 -1.65431876e+00 -1.28986891e+00\n",
            " -1.45980541e+00 -1.47065395e+00 -1.09427851e+00 -6.61152420e-01\n",
            "  1.06633262e-01 -1.56873090e+00 -2.42226955e+00 -2.71953703e+00\n",
            "  1.78649948e+00 -4.63859144e-01 -3.22660267e-01  2.45833234e+00\n",
            " -2.26884072e+00  2.09572631e+00 -1.73826376e+00 -2.36187713e+00\n",
            " -1.84457476e+00  1.11894590e-01 -4.19547782e+00  6.83013070e-01\n",
            " -1.65592892e+00 -2.52354381e+00  1.18296018e+00  6.96456381e-01\n",
            " -2.31689172e+00 -2.05191466e+00 -3.55544517e+00 -7.25560597e-01\n",
            " -1.65514182e+00 -1.84017677e+00  5.47234393e-01 -9.02293769e-01\n",
            " -1.54255005e+00 -6.79019199e-01 -1.35118278e+00 -1.97736282e+00\n",
            " -1.81384206e+00 -2.21084170e+00 -2.48053614e+00  8.72858365e-02\n",
            "  7.01982341e-01 -4.76810182e-02 -1.27117310e+00 -1.40495187e+00\n",
            " -3.84594886e+00 -1.25808912e+00 -2.63989936e+00  7.51347195e-01\n",
            " -1.07352629e+00 -2.77227326e+00 -3.31379543e+00 -2.22222404e+00\n",
            " -1.67586660e+00 -1.74216923e+00 -8.29952914e-01 -4.66793618e-01\n",
            " -9.91783763e-01 -6.19147652e-01 -1.30803071e+00  4.00595825e-01\n",
            " -2.41642669e+00 -3.24230863e+00 -6.96031253e-01 -6.23898082e-02\n",
            " -3.53585049e-01 -7.80726490e-01 -3.17434912e-01 -2.25205599e+00\n",
            " -2.57934798e+00  1.52831606e+00  3.17001360e+00 -9.59405725e-01\n",
            "  1.49713643e-01  1.06399239e+00 -2.09419825e+00 -2.10400724e+00\n",
            " -1.24964411e+00 -2.44935903e+00 -2.03859908e+00 -1.44204425e+00\n",
            " -1.81159079e+00 -1.07496360e+00  2.05918020e-01 -1.49887615e+00\n",
            " -5.47007021e-01  1.82139006e+00 -2.04642495e+00 -1.50623578e+00\n",
            " -2.14716319e+00 -1.86687483e+00 -1.55860992e+00 -1.92584674e+00\n",
            "  4.33449648e-04 -1.54259420e+00 -2.43288833e+00 -2.11699922e+00\n",
            " -1.42416602e+00 -2.01063407e+00 -6.19429887e-01 -9.56078585e-01\n",
            " -8.19337608e-01 -1.24498745e-01 -2.26151442e-01  2.15592826e+00\n",
            "  3.17818299e-02 -1.72322643e+00 -3.15131657e-01 -7.96717231e-01\n",
            " -7.31411376e-01 -2.71417318e+00  3.98983533e-01 -1.94799881e+00\n",
            "  1.85335878e+00 -2.88495899e+00  1.45956049e+00 -1.51025769e+00\n",
            " -3.75196308e-01 -7.54249984e-01 -2.47996995e-01  8.70484332e-01\n",
            " -2.28817730e+00 -1.83830727e+00  5.31910741e-01 -2.00846244e+00\n",
            " -2.32005781e+00 -1.39351090e+00 -1.91829400e+00  1.10729811e+00\n",
            "  1.76952281e+00 -6.01205058e-01  2.07434605e+00 -3.01020039e+00\n",
            " -2.79825628e-01 -2.69225357e+00 -1.73218117e+00  1.15229664e+00\n",
            "  1.53876330e+00 -6.18065529e-01  1.04871466e+00 -2.24734758e+00\n",
            " -1.68104864e+00 -3.94488365e+00  4.27969163e-01 -7.62242891e-01\n",
            " -1.57390819e+00 -9.14453897e-01  3.49982449e+00 -1.64613256e+00\n",
            " -1.92843476e+00 -1.86105041e+00 -2.05091212e+00 -1.09676819e+00\n",
            " -6.15727881e-01 -2.69149045e+00 -4.58072262e-01 -2.29493173e+00\n",
            " -1.84382309e+00 -2.18159134e+00 -1.76500502e+00 -2.48629302e-01\n",
            " -1.74249573e+00 -1.89402870e+00 -1.32434802e-01 -3.34257040e+00\n",
            " -2.11985853e+00 -6.00382303e-01 -1.55386415e-01 -8.71540848e-01\n",
            " -1.69366725e+00 -2.92923236e-01 -4.45144997e-01  1.14883086e+00\n",
            " -2.57345311e-01 -2.52704742e+00 -2.93621984e+00 -1.11875005e+00\n",
            " -8.77349001e-01 -1.21150475e+00 -2.15060915e+00 -1.17868894e-01\n",
            " -2.92424793e+00  7.38299013e-02  1.53092975e-01 -1.19986441e+00\n",
            "  6.68124357e-01  3.48633784e+00  5.76530704e-01  1.10897326e+00\n",
            " -6.79410317e-01 -1.93494087e+00  5.06566788e-03 -1.09666320e+00\n",
            " -1.13468127e+00  3.35637520e-01  1.32637286e+00 -2.13547542e+00\n",
            " -2.21208705e+00  9.23971325e-01 -5.98688062e-01  1.72854685e+00\n",
            "  1.55290081e-01 -2.07403599e+00 -8.07732642e-01 -2.27177428e+00\n",
            " -3.90690183e+00  1.23056928e+00 -1.40893127e+00 -6.35717449e-01\n",
            " -2.10161163e+00 -8.11138162e-01 -1.43503830e+00 -1.98628772e+00\n",
            " -9.14083543e-01  3.11884776e-01 -8.41622210e-01  1.59608940e+00\n",
            " -4.07344730e-02  3.03767214e-01 -2.95348952e+00 -1.04457019e+00\n",
            "  1.05320542e-01 -1.86667500e+00 -6.19580722e-01  7.23998142e-01\n",
            " -1.00435542e+00 -5.13343585e-01  1.29073238e+00  6.81099562e-01\n",
            " -2.12705575e+00 -1.87932557e+00 -1.99497767e+00 -1.16514615e+00\n",
            "  9.57762171e-01 -1.36338582e+00 -3.72315450e-01 -7.33914131e-01\n",
            "  1.07271245e+00 -1.65555876e+00 -2.19613372e+00  2.29901236e+00\n",
            "  1.38079793e+00 -1.21948023e+00 -1.51090597e+00 -1.15577047e+00\n",
            " -2.62770343e+00 -1.41659275e+00 -5.52831929e-01 -7.69056526e-01\n",
            " -1.82041789e+00 -8.62346525e-01 -1.30526342e+00 -8.45129430e-01\n",
            " -3.76807206e-01 -2.36511353e+00 -1.21709974e+00 -1.16357209e+00\n",
            "  1.53548147e+00 -1.87051701e+00 -1.87162638e+00 -1.51085613e+00\n",
            " -1.80709637e+00 -1.88103157e+00 -1.52814234e+00 -1.31418602e+00\n",
            "  1.12010151e+00 -1.47944868e+00 -2.17527737e+00  7.49806338e-01\n",
            "  2.69354976e+00 -8.21210981e-01  5.62259326e-01 -5.78457770e-01\n",
            "  1.42028950e+00  2.00731681e-01  6.56356015e-01 -1.09797693e+00\n",
            " -2.05169128e+00  3.69311326e-01  8.51592473e-01 -2.14337527e-02\n",
            " -1.82223240e-01 -8.94027377e-01 -1.65916009e+00  1.88604207e+00\n",
            " -1.88125769e+00  2.38277697e+00 -2.26095015e+00 -1.07684619e+00\n",
            " -7.95172446e-01 -1.56207178e+00 -9.06625615e-01 -2.46161443e+00]\n",
            "Model Parameters:\n",
            " {'C': 1.0, 'class_weight': None, 'dual': False, 'fit_intercept': True, 'intercept_scaling': 1, 'l1_ratio': None, 'max_iter': 100, 'multi_class': 'auto', 'n_jobs': None, 'penalty': 'l2', 'random_state': None, 'solver': 'lbfgs', 'tol': 0.0001, 'verbose': 0, 'warm_start': False}\n"
          ]
        }
      ]
    },
    {
      "cell_type": "code",
      "source": [
        "# Выделение целевой переменной и факторов\n",
        "y = data.Outcome\n",
        "X = data.drop([\"Outcome\"], axis=1)\n",
        "\n",
        "X_train, X_test, y_train, y_test = train_test_split(X, y, test_size=0.2, random_state=42)\n",
        "\n",
        "# Создание и обучение модели с базовыми параметрами\n",
        "logistic_base = LogisticRegression()\n",
        "logistic_base.fit(X_train, y_train)\n",
        "\n",
        "# Оценка базовой модели\n",
        "print(\"Base Model Accuracy:\", logistic_base.score(X_test, y_test))\n",
        "\n",
        "# Создание и обучение модели с измененными параметрами\n",
        "logistic_tuned = LogisticRegression(penalty='l1', C=1000, solver='liblinear', max_iter=1000, class_weight='balanced', random_state=42)\n",
        "logistic_tuned.fit(X_train, y_train)\n",
        "\n",
        "# Оценка модели с измененными параметрами\n",
        "print(\"Tuned Model Accuracy:\", logistic_tuned.score(X_test, y_test))\n",
        "\n",
        "\n"
      ],
      "metadata": {
        "colab": {
          "base_uri": "https://localhost:8080/"
        },
        "id": "eRkSg2OYQcaO",
        "outputId": "3981c61c-0f26-432a-ad38-49af564520f1"
      },
      "execution_count": 26,
      "outputs": [
        {
          "output_type": "stream",
          "name": "stdout",
          "text": [
            "Base Model Accuracy: 0.7467532467532467\n",
            "Tuned Model Accuracy: 0.6948051948051948\n"
          ]
        },
        {
          "output_type": "stream",
          "name": "stderr",
          "text": [
            "/usr/local/lib/python3.10/dist-packages/sklearn/linear_model/_logistic.py:458: ConvergenceWarning: lbfgs failed to converge (status=1):\n",
            "STOP: TOTAL NO. of ITERATIONS REACHED LIMIT.\n",
            "\n",
            "Increase the number of iterations (max_iter) or scale the data as shown in:\n",
            "    https://scikit-learn.org/stable/modules/preprocessing.html\n",
            "Please also refer to the documentation for alternative solver options:\n",
            "    https://scikit-learn.org/stable/modules/linear_model.html#logistic-regression\n",
            "  n_iter_i = _check_optimize_result(\n"
          ]
        }
      ]
    },
    {
      "cell_type": "markdown",
      "source": [
        "#### 2.Попробуйте применить к той же задаче другие модели классификации. Для каждой из них выведите матрицу классификации и оценку точности. Рекомендуется исследовать следующие модели:"
      ],
      "metadata": {
        "id": "Xz1luCpQQuKC"
      }
    },
    {
      "cell_type": "markdown",
      "source": [
        "##### i. Метод опорных векторов"
      ],
      "metadata": {
        "id": "i2PavWVDQ2We"
      }
    },
    {
      "cell_type": "code",
      "source": [
        "from sklearn.svm import SVC\n",
        "import matplotlib.pyplot as plt\n",
        "\n",
        "# Разделение на обучающий и тестовый наборы данных\n",
        "X_train, X_test, y_train, y_test = train_test_split(X, y, test_size=0.2, random_state=42)\n",
        "\n",
        "# Метод опорных векторов (SVM) без ядра\n",
        "svm_no_kernel = SVC(kernel='linear', random_state=42)\n",
        "svm_no_kernel.fit(X_train, y_train)\n",
        "\n",
        "# Визуализация матрицы классификации для SVM (No Kernel)\n",
        "sns.heatmap(metrics.confusion_matrix(y_test, svm_no_kernel.predict(X_test)), annot=True,  fmt='d', cmap='Blues', xticklabels=['0', '1'], yticklabels=['0', '1'])\n",
        "plt.title('Confusion Matrix - SVM (No Kernel)')\n",
        "plt.show()\n",
        "\n",
        "# Метод опорных векторов (SVM) с линейным ядром\n",
        "svm_linear = SVC(kernel='linear', random_state=42)\n",
        "svm_linear.fit(X_train, y_train)\n",
        "\n",
        "# Визуализация матрицы классификации для SVM (Linear Kernel)\n",
        "sns.heatmap(metrics.confusion_matrix(y_test, svm_linear.predict(X_test)), annot=True,  fmt='d', cmap='Blues', xticklabels=['0', '1'], yticklabels=['0', '1'])\n",
        "plt.title('Confusion Matrix - SVM (Linear Kernel)')\n",
        "plt.show()\n",
        "\n",
        "# Метод опорных векторов (SVM) с полиномиальным ядром\n",
        "svm_poly = SVC(kernel='poly', degree=3, random_state=42)\n",
        "svm_poly.fit(X_train, y_train)\n",
        "\n",
        "# Визуализация матрицы классификации для SVM (Polynomial Kernel)\n",
        "sns.heatmap(metrics.confusion_matrix(y_test, svm_poly.predict(X_test)), annot=True,  fmt='d', cmap='Blues', xticklabels=['0', '1'], yticklabels=['0', '1'])\n",
        "plt.title('Confusion Matrix - SVM (Polynomial Kernel)')\n",
        "plt.show()\n",
        "\n",
        "# Метод опорных векторов (SVM) с гауссовым ядром\n",
        "svm_rbf = SVC(kernel='rbf', random_state=42)\n",
        "svm_rbf.fit(X_train, y_train)\n",
        "\n",
        "# Визуализация матрицы классификации для SVM (RBF Kernel)\n",
        "sns.heatmap(metrics.confusion_matrix(y_test, svm_rbf.predict(X_test)), annot=True,  fmt='d', cmap='Blues', xticklabels=['0', '1'], yticklabels=['0', '1'])\n",
        "plt.title('Confusion Matrix - SVM (RBF Kernel)')\n",
        "plt.show()\n"
      ],
      "metadata": {
        "colab": {
          "base_uri": "https://localhost:8080/",
          "height": 1000
        },
        "id": "4Pma_T6JQ9gd",
        "outputId": "3062d134-9663-482c-ece0-bb94a268f8ab"
      },
      "execution_count": 65,
      "outputs": [
        {
          "output_type": "display_data",
          "data": {
            "text/plain": [
              "<Figure size 640x480 with 2 Axes>"
            ],
            "image/png": "[encoded data removed]"
          },
          "metadata": {}
        },
        {
          "output_type": "display_data",
          "data": {
            "text/plain": [
              "<Figure size 640x480 with 2 Axes>"
            ],
            "image/png": "[encoded data removed]"
          },
          "metadata": {}
        },
        {
          "output_type": "display_data",
          "data": {
            "text/plain": [
              "<Figure size 640x480 with 2 Axes>"
            ],
            "image/png": "[encoded data removed]"
          },
          "metadata": {}
        },
        {
          "output_type": "display_data",
          "data": {
            "text/plain": [
              "<Figure size 640x480 with 2 Axes>"
            ],
            "image/png": "[encoded data removed]"
          },
          "metadata": {}
        }
      ]
    },
    {
      "cell_type": "markdown",
      "source": [
        "##### ii. Метод ближайших соседей"
      ],
      "metadata": {
        "id": "DXYSJe_pSV-D"
      }
    },
    {
      "cell_type": "code",
      "source": [
        "from sklearn.neighbors import KNeighborsClassifier\n",
        "\n",
        "# Метод ближайших соседей (KNN)\n",
        "knn = KNeighborsClassifier(n_neighbors=5)\n",
        "knn.fit(X_train, y_train)\n",
        "\n",
        "# Оценка модели KNN\n",
        "print(\"KNN Accuracy:\", knn.score(X_test, y_test))\n",
        "\n",
        "# Визуализация матрицы классификации для KNN\n",
        "sns.heatmap(metrics.confusion_matrix(y_test, knn.predict(X_test)), annot=True,  fmt='d', cmap='Blues', xticklabels=['0', '1'], yticklabels=['0', '1'])\n",
        "plt.title('Confusion Matrix - KNN')\n",
        "plt.show()\n"
      ],
      "metadata": {
        "colab": {
          "base_uri": "https://localhost:8080/",
          "height": 469
        },
        "id": "b0Z2Hz9cSZY2",
        "outputId": "efa017bf-232f-4325-c544-23257eb05036"
      },
      "execution_count": 64,
      "outputs": [
        {
          "output_type": "stream",
          "name": "stdout",
          "text": [
            "KNN Accuracy: 0.6623376623376623\n"
          ]
        },
        {
          "output_type": "display_data",
          "data": {
            "text/plain": [
              "<Figure size 640x480 with 2 Axes>"
            ],
            "image/png": "[encoded data removed]"
          },
          "metadata": {}
        }
      ]
    },
    {
      "cell_type": "markdown",
      "source": [
        "##### iii. Многослойный перцептрон\n"
      ],
      "metadata": {
        "id": "yJQ5nJd9Sjab"
      }
    },
    {
      "cell_type": "code",
      "source": [
        "from sklearn.neural_network import MLPClassifier\n",
        "\n",
        "# Многослойный перцептрон (MLP)\n",
        "mlp = MLPClassifier(hidden_layer_sizes=(100,), max_iter=1000, random_state=42)\n",
        "mlp.fit(X_train, y_train)\n",
        "\n",
        "# Оценка модели MLP\n",
        "print(\"MLP Accuracy:\", mlp.score(X_test, y_test))\n",
        "\n",
        "# Визуализация матрицы классификации для MLP\n",
        "sns.heatmap(metrics.confusion_matrix(y_test, mlp.predict(X_test)), annot=True,  fmt='d', cmap='Blues', xticklabels=['0', '1'], yticklabels=['0', '1'])\n",
        "plt.title('Confusion Matrix - MLP')\n",
        "plt.show()\n"
      ],
      "metadata": {
        "colab": {
          "base_uri": "https://localhost:8080/",
          "height": 469
        },
        "id": "Hs3G_xNbSl74",
        "outputId": "6dd2477d-6b05-4f4a-ceb8-06a1c7d6aaef"
      },
      "execution_count": 63,
      "outputs": [
        {
          "output_type": "stream",
          "name": "stdout",
          "text": [
            "MLP Accuracy: 0.7012987012987013\n"
          ]
        },
        {
          "output_type": "display_data",
          "data": {
            "text/plain": [
              "<Figure size 640x480 with 2 Axes>"
            ],
            "image/png": "[encoded data removed]"
          },
          "metadata": {}
        }
      ]
    },
    {
      "cell_type": "markdown",
      "source": [
        "##### iv. Дерево решений\n"
      ],
      "metadata": {
        "id": "nCGlYf88UpIr"
      }
    },
    {
      "cell_type": "code",
      "source": [
        "from sklearn.tree import DecisionTreeClassifier\n",
        "\n",
        "# Дерево решений\n",
        "decision_tree = DecisionTreeClassifier(random_state=42)\n",
        "decision_tree.fit(X_train, y_train)\n",
        "\n",
        "# Оценка модели Дерева решений\n",
        "print(\"Decision Tree Accuracy:\", decision_tree.score(X_test, y_test))\n",
        "\n",
        "# Визуализация матрицы классификации для Дерева решений\n",
        "sns.heatmap(metrics.confusion_matrix(y_test, decision_tree.predict(X_test)), annot=True,  fmt='d', cmap='Blues', xticklabels=['0', '1'], yticklabels=['0', '1'])\n",
        "plt.title('Confusion Matrix - Decision Tree')\n",
        "plt.show()\n"
      ],
      "metadata": {
        "colab": {
          "base_uri": "https://localhost:8080/",
          "height": 469
        },
        "id": "oZU4Hr8UUsqz",
        "outputId": "9b804b97-4e7c-4335-dd5b-009dfd9f73a2"
      },
      "execution_count": 62,
      "outputs": [
        {
          "output_type": "stream",
          "name": "stdout",
          "text": [
            "Decision Tree Accuracy: 0.7467532467532467\n"
          ]
        },
        {
          "output_type": "display_data",
          "data": {
            "text/plain": [
              "<Figure size 640x480 with 2 Axes>"
            ],
            "image/png": "[encoded data removed]"
          },
          "metadata": {}
        }
      ]
    },
    {
      "cell_type": "markdown",
      "source": [
        "##### v. Наивный байесовский классификатор"
      ],
      "metadata": {
        "id": "UNaqEW9aU5wG"
      }
    },
    {
      "cell_type": "code",
      "source": [
        "from sklearn.naive_bayes import GaussianNB\n",
        "\n",
        "# Наивный байесовский классификатор (Gaussian Naive Bayes)\n",
        "naive_bayes = GaussianNB()\n",
        "naive_bayes.fit(X_train, y_train)\n",
        "\n",
        "# Оценка модели Наивного байесовского классификатора\n",
        "print(\"Naive Bayes Accuracy:\", naive_bayes.score(X_test, y_test))\n",
        "\n",
        "# Визуализация матрицы классификации для Наивного байесовского классификатора\n",
        "sns.heatmap(metrics.confusion_matrix(y_test, naive_bayes.predict(X_test)), annot=True,  fmt='d', cmap='Blues', xticklabels=['0', '1'], yticklabels=['0', '1'])\n",
        "plt.title('Confusion Matrix - Naive Bayes')\n",
        "plt.show()\n"
      ],
      "metadata": {
        "colab": {
          "base_uri": "https://localhost:8080/",
          "height": 469
        },
        "id": "fxox79TxU8cT",
        "outputId": "4084fc49-83e3-4fa5-8f73-c2e0c318c88b"
      },
      "execution_count": 61,
      "outputs": [
        {
          "output_type": "stream",
          "name": "stdout",
          "text": [
            "Naive Bayes Accuracy: 0.7662337662337663\n"
          ]
        },
        {
          "output_type": "display_data",
          "data": {
            "text/plain": [
              "<Figure size 640x480 with 2 Axes>"
            ],
            "image/png": "[encoded data removed]"
          },
          "metadata": {}
        }
      ]
    },
    {
      "cell_type": "markdown",
      "source": [
        "##### vi. (*) Другие методы:"
      ],
      "metadata": {
        "id": "0MjRdIt3VRqD"
      }
    },
    {
      "cell_type": "markdown",
      "source": [
        "###### a. Пассивно-агрессивный классификатор"
      ],
      "metadata": {
        "id": "fXCtvoO4VXVY"
      }
    },
    {
      "cell_type": "code",
      "source": [
        "from sklearn.linear_model import PassiveAggressiveClassifier\n",
        "\n",
        "# Пассивно-агрессивный классификатор\n",
        "pac_classifier = PassiveAggressiveClassifier(max_iter=1000)\n",
        "pac_classifier.fit(X_train, y_train)\n",
        "\n",
        "# Визуализация матрицы классификации для Пассивно-агрессивного классификатора\n",
        "sns.heatmap(metrics.confusion_matrix(y_test, pac_classifier.predict(X_test)), annot=True,  fmt='d', cmap='Blues', xticklabels=['0', '1'], yticklabels=['0', '1'])\n",
        "plt.title(\"Confusion Matrix - Passive Aggressive Classifier\")\n",
        "plt.show()\n",
        "\n"
      ],
      "metadata": {
        "colab": {
          "base_uri": "https://localhost:8080/",
          "height": 452
        },
        "id": "TPmfL8dgVZ53",
        "outputId": "296e693a-ce82-49b9-8e71-f782a1aab95f"
      },
      "execution_count": 60,
      "outputs": [
        {
          "output_type": "display_data",
          "data": {
            "text/plain": [
              "<Figure size 640x480 with 2 Axes>"
            ],
            "image/png": "[encoded data removed]"
          },
          "metadata": {}
        }
      ]
    },
    {
      "cell_type": "markdown",
      "source": [
        "###### b. Гребневый классификатор"
      ],
      "metadata": {
        "id": "OoVxAmk-WBUD"
      }
    },
    {
      "cell_type": "code",
      "source": [
        "from sklearn.linear_model import RidgeClassifierCV\n",
        "\n",
        "# Гребневый классификатор с автоматическим подбором параметра регуляризации (alpha)\n",
        "ridge_classifier = RidgeClassifierCV(alphas=[1e-3, 1e-2, 1e-1, 1])\n",
        "ridge_classifier.fit(X_train, y_train)\n",
        "\n",
        "# Визуализация матрицы классификации для Гребневого классификатора\n",
        "sns.heatmap(metrics.confusion_matrix(y_test, ridge_classifier.predict(X_test)), annot=True,  fmt='d', cmap='Blues', xticklabels=['0', '1'], yticklabels=['0', '1'])\n",
        "plt.title(\"Confusion Matrix - Ridge Classifier\")\n",
        "plt.show()\n"
      ],
      "metadata": {
        "colab": {
          "base_uri": "https://localhost:8080/",
          "height": 452
        },
        "id": "4DfdUwH2WEN_",
        "outputId": "3f3e6280-d18c-4856-d346-9453b1c42f35"
      },
      "execution_count": 59,
      "outputs": [
        {
          "output_type": "display_data",
          "data": {
            "text/plain": [
              "<Figure size 640x480 with 2 Axes>"
            ],
            "image/png": "[encoded data removed]"
          },
          "metadata": {}
        }
      ]
    },
    {
      "cell_type": "markdown",
      "source": [
        "###### c. Случайный лес"
      ],
      "metadata": {
        "id": "vjiMnf-JWSNI"
      }
    },
    {
      "cell_type": "code",
      "source": [
        "from sklearn.ensemble import RandomForestClassifier\n",
        "\n",
        "# Модель случайного леса\n",
        "random_forest = RandomForestClassifier(n_estimators=100, random_state=42)\n",
        "random_forest.fit(X_train, y_train)\n",
        "\n",
        "# Оценка модели случайного леса\n",
        "print(\"Random Forest Accuracy:\", random_forest.score(X_test, y_test))\n",
        "\n",
        "# Визуализация матрицы классификации для случайного леса\n",
        "sns.heatmap(metrics.confusion_matrix(y_test, random_forest.predict(X_test)), annot=True,  fmt='d', cmap='Blues', xticklabels=['0', '1'], yticklabels=['0', '1'])\n",
        "plt.title(\"Confusion Matrix - Random Forest\")\n",
        "plt.show()\n"
      ],
      "metadata": {
        "colab": {
          "base_uri": "https://localhost:8080/",
          "height": 469
        },
        "id": "8QdOB15TWUDx",
        "outputId": "565272b9-6b8b-40e3-e865-cc0658fa7e4f"
      },
      "execution_count": 58,
      "outputs": [
        {
          "output_type": "stream",
          "name": "stdout",
          "text": [
            "Random Forest Accuracy: 0.7207792207792207\n"
          ]
        },
        {
          "output_type": "display_data",
          "data": {
            "text/plain": [
              "<Figure size 640x480 with 2 Axes>"
            ],
            "image/png": "[encoded data removed]"
          },
          "metadata": {}
        }
      ]
    },
    {
      "cell_type": "markdown",
      "source": [
        "###### d. Беггинг"
      ],
      "metadata": {
        "id": "Y2gPFMwJWiac"
      }
    },
    {
      "cell_type": "code",
      "source": [
        "from sklearn.ensemble import BaggingClassifier\n",
        "from sklearn.tree import DecisionTreeClassifier\n",
        "\n",
        "# Беггинг с деревьями решений\n",
        "base_classifier = DecisionTreeClassifier(random_state=42)\n",
        "bagging_classifier = BaggingClassifier(base_classifier, n_estimators=100, random_state=42)\n",
        "bagging_classifier.fit(X_train, y_train)\n",
        "\n",
        "# Оценка модели беггинга\n",
        "print(\"Bagging Accuracy:\", bagging_classifier.score(X_test, y_test))\n",
        "\n",
        "# Визуализация матрицы классификации для беггинга\n",
        "sns.heatmap(metrics.confusion_matrix(y_test, bagging_classifier.predict(X_test)), annot=True,  fmt='d', cmap='Blues', xticklabels=['0', '1'], yticklabels=['0', '1'])\n",
        "plt.title(\"Confusion Matrix - Bagging\")\n",
        "plt.show()\n"
      ],
      "metadata": {
        "colab": {
          "base_uri": "https://localhost:8080/",
          "height": 469
        },
        "id": "TPFD5kr7Wh6Y",
        "outputId": "b4669e3d-de02-4241-e1af-9cd7162053cc"
      },
      "execution_count": 50,
      "outputs": [
        {
          "output_type": "stream",
          "name": "stdout",
          "text": [
            "Bagging Accuracy: 0.7402597402597403\n"
          ]
        },
        {
          "output_type": "display_data",
          "data": {
            "text/plain": [
              "<Figure size 640x480 with 2 Axes>"
            ],
            "image/png": "[encoded data removed]"
          },
          "metadata": {}
        }
      ]
    },
    {
      "cell_type": "markdown",
      "source": [
        "#### 3.Напишите функцию, которая автоматически обучает все перечисленные модели и для каждой выдает оценку точности."
      ],
      "metadata": {
        "id": "XG4ESIteW8Cc"
      }
    },
    {
      "cell_type": "code",
      "source": [
        "def train_and_evaluate_models(X_train, y_train, X_test, y_test):\n",
        "    models = {\n",
        "        'Logistic Regression': LogisticRegression(),\n",
        "        'Support Vector Machine (Linear Kernel)': SVC(kernel='linear'),\n",
        "        'Support Vector Machine (RBF Kernel)': SVC(kernel='rbf'),\n",
        "        'Support Vector Machine (Polynomial Kernel)': SVC(kernel='poly', degree=3),\n",
        "        'Support Vector Machine (Sigmoid Kernel)': SVC(kernel='sigmoid'),\n",
        "        'K-Nearest Neighbors': KNeighborsClassifier(),\n",
        "        'Multi-layer Perceptron': MLPClassifier(max_iter=1000),\n",
        "        'Decision Tree': DecisionTreeClassifier(),\n",
        "        'Naive Bayes': GaussianNB(),\n",
        "        'Passive-Aggressive Classifier': PassiveAggressiveClassifier(max_iter=1000),\n",
        "        'Ridge Classifier': RidgeClassifierCV(),\n",
        "        'Random Forest': RandomForestClassifier(n_estimators=100, random_state=42),\n",
        "        'Bagging': BaggingClassifier(DecisionTreeClassifier(random_state=42), n_estimators=100, random_state=42)\n",
        "    }\n",
        "\n",
        "    for model_name, model in models.items():\n",
        "        model.fit(X_train, y_train)\n",
        "        accuracy = model.score(X_test, y_test)\n",
        "        print(f\"{model_name} Accuracy: {accuracy:.4f}\")\n",
        "\n",
        "\n",
        "# Обучение и оценка моделей\n",
        "train_and_evaluate_models(X_train, y_train, X_test, y_test)\n"
      ],
      "metadata": {
        "colab": {
          "base_uri": "https://localhost:8080/"
        },
        "id": "oWOBXRn2W_CT",
        "outputId": "26fbe983-11e1-45f5-f3f6-eea43e12b112"
      },
      "execution_count": 49,
      "outputs": [
        {
          "output_type": "stream",
          "name": "stderr",
          "text": [
            "/usr/local/lib/python3.10/dist-packages/sklearn/linear_model/_logistic.py:458: ConvergenceWarning: lbfgs failed to converge (status=1):\n",
            "STOP: TOTAL NO. of ITERATIONS REACHED LIMIT.\n",
            "\n",
            "Increase the number of iterations (max_iter) or scale the data as shown in:\n",
            "    https://scikit-learn.org/stable/modules/preprocessing.html\n",
            "Please also refer to the documentation for alternative solver options:\n",
            "    https://scikit-learn.org/stable/modules/linear_model.html#logistic-regression\n",
            "  n_iter_i = _check_optimize_result(\n"
          ]
        },
        {
          "output_type": "stream",
          "name": "stdout",
          "text": [
            "Logistic Regression Accuracy: 0.7468\n",
            "Support Vector Machine (Linear Kernel) Accuracy: 0.7532\n",
            "Support Vector Machine (RBF Kernel) Accuracy: 0.7662\n",
            "Support Vector Machine (Polynomial Kernel) Accuracy: 0.7597\n",
            "Support Vector Machine (Sigmoid Kernel) Accuracy: 0.5519\n",
            "K-Nearest Neighbors Accuracy: 0.6623\n",
            "Multi-layer Perceptron Accuracy: 0.6558\n",
            "Decision Tree Accuracy: 0.7532\n",
            "Naive Bayes Accuracy: 0.7662\n",
            "Passive-Aggressive Classifier Accuracy: 0.6429\n",
            "Ridge Classifier Accuracy: 0.7532\n",
            "Random Forest Accuracy: 0.7208\n",
            "Bagging Accuracy: 0.7403\n"
          ]
        }
      ]
    },
    {
      "cell_type": "markdown",
      "source": [
        "#### 4. Повторите полностью анализ для другой задачи - распознавание вида ириса по параметрам растения (можно использовать метод sklearn.datasets.load_iris())."
      ],
      "metadata": {
        "id": "SJhG8bTXaeYy"
      }
    },
    {
      "cell_type": "code",
      "source": [
        "from sklearn.datasets import load_iris\n",
        "\n",
        "# Загрузка данных\n",
        "iris = load_iris()\n",
        "data = pd.DataFrame(data=iris.data, columns=iris.feature_names)\n",
        "data['Species'] = iris.target_names[iris.target]\n",
        "\n",
        "# Выделение целевой переменной и факторов\n",
        "y = iris.target\n",
        "X = iris.data\n",
        "\n",
        "# Разделение на обучающий и тестовый наборы данных\n",
        "X_train, X_test, y_train, y_test = train_test_split(X, y, test_size=0.2, random_state=36)\n",
        "\n",
        "# Обучение и оценка моделей\n",
        "train_and_evaluate_models(X_train, y_train, X_test, y_test)\n"
      ],
      "metadata": {
        "colab": {
          "base_uri": "https://localhost:8080/"
        },
        "id": "1hrR4jqlaetE",
        "outputId": "5a6fd98e-9edc-4251-e1ba-8c6bb4e054e2"
      },
      "execution_count": 74,
      "outputs": [
        {
          "output_type": "stream",
          "name": "stdout",
          "text": [
            "Logistic Regression Accuracy: 0.9667\n",
            "Support Vector Machine (Linear Kernel) Accuracy: 1.0000\n",
            "Support Vector Machine (RBF Kernel) Accuracy: 0.9667\n",
            "Support Vector Machine (Polynomial Kernel) Accuracy: 0.9667\n",
            "Support Vector Machine (Sigmoid Kernel) Accuracy: 0.2667\n",
            "K-Nearest Neighbors Accuracy: 1.0000\n",
            "Multi-layer Perceptron Accuracy: 1.0000\n",
            "Decision Tree Accuracy: 0.9667\n",
            "Naive Bayes Accuracy: 0.9333\n",
            "Passive-Aggressive Classifier Accuracy: 0.6333\n",
            "Ridge Classifier Accuracy: 0.7333\n",
            "Random Forest Accuracy: 0.9667\n",
            "Bagging Accuracy: 0.9667\n"
          ]
        }
      ]
    }
  ]
}